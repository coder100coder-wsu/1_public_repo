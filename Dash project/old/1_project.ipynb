{
 "nbformat": 4,
 "nbformat_minor": 0,
 "metadata": {
  "colab": {
   "name": "Final_final_project.ipynb",
   "provenance": [],
   "collapsed_sections": [],
   "toc_visible": true
  },
  "kernelspec": {
   "name": "python3",
   "display_name": "Python 3"
  }
 },
 "cells": [
  {
   "cell_type": "markdown",
   "metadata": {
    "id": "m1dI2AmDJ5FQ"
   },
   "source": [
    "# Mount google drive\n",
    "get access to data files"
   ]
  },
  {
   "cell_type": "code",
   "metadata": {
    "colab": {
     "base_uri": "https://localhost:8080/"
    },
    "id": "EWAEOvcltXpY",
    "outputId": "56478473-b5aa-4bb3-d935-be9d5c46b7c5"
   },
   "source": [
    "from google.colab import drive\n",
    "drive.mount('/content/drive')\n",
    "# drive.flush_and_unmount()"
   ],
   "execution_count": null,
   "outputs": [
    {
     "output_type": "stream",
     "name": "stdout",
     "text": [
      "Mounted at /content/drive\n"
     ]
    }
   ]
  },
  {
   "cell_type": "markdown",
   "metadata": {
    "id": "zAYBUrShKDT8"
   },
   "source": [
    "# Import pandas, numpy, plotly, regex, matplotlib, seaborn"
   ]
  },
  {
   "cell_type": "code",
   "metadata": {
    "id": "nNcI-1Ph1QA0"
   },
   "source": [
    "import pandas as pd\n",
    "import numpy as np\n",
    "import re"
   ],
   "execution_count": null,
   "outputs": []
  },
  {
   "cell_type": "markdown",
   "metadata": {
    "id": "nU2AKiJIKLlo"
   },
   "source": [
    "### Load data, read.csv()"
   ]
  },
  {
   "cell_type": "code",
   "source": [
    "df_countries = pd.read_csv(\"/content/drive/MyDrive/final_project/data/list_countries.csv\", encoding='latin-1')\n",
    "df_state_short_names = pd.read_csv(\"/content/drive/MyDrive/final_project/data/state_short_names.csv\")"
   ],
   "metadata": {
    "id": "kjg6DyTYGoeS"
   },
   "execution_count": null,
   "outputs": []
  },
  {
   "cell_type": "code",
   "source": [
    "df_simplyhired = pd.read_csv(\"/content/drive/MyDrive/final_project/data/simplyhired.csv\")\n",
    "df_merged = df_simplyhired.copy()"
   ],
   "metadata": {
    "id": "UgVRQaoqFFZR"
   },
   "execution_count": null,
   "outputs": []
  },
  {
   "cell_type": "code",
   "source": [
    "#drop unnamed column\n",
    "df_merged = df_merged.drop(['Unnamed: 0'], axis = 1)\n",
    "df_merged.reset_index(inplace=True, drop=True)\n",
    "df_merged.index"
   ],
   "metadata": {
    "colab": {
     "base_uri": "https://localhost:8080/"
    },
    "id": "RgCtySUIHRvJ",
    "outputId": "b95cab62-24ed-4bd9-9b56-8471267f9c36"
   },
   "execution_count": null,
   "outputs": [
    {
     "output_type": "execute_result",
     "data": {
      "text/plain": [
       "RangeIndex(start=0, stop=3288, step=1)"
      ]
     },
     "metadata": {},
     "execution_count": 5
    }
   ]
  },
  {
   "cell_type": "code",
   "source": [
    "#df_merged.isna().value_counts()"
   ],
   "metadata": {
    "id": "CENK5cp_FJKJ"
   },
   "execution_count": null,
   "outputs": []
  },
  {
   "cell_type": "code",
   "source": [
    "#df_merged['salary'].value_counts(dropna=False, normalize=True)"
   ],
   "metadata": {
    "id": "aiNGTnsCH2KM"
   },
   "execution_count": null,
   "outputs": []
  },
  {
   "cell_type": "code",
   "source": [
    "df_merged.dropna(inplace=True) "
   ],
   "metadata": {
    "id": "0g8tUGASIPjb"
   },
   "execution_count": null,
   "outputs": []
  },
  {
   "cell_type": "code",
   "source": [
    "#df_merged['salary'].value_counts(dropna=False, normalize=True)"
   ],
   "metadata": {
    "id": "WjcbW0-TJ-yq"
   },
   "execution_count": null,
   "outputs": []
  },
  {
   "cell_type": "code",
   "metadata": {
    "id": "UJaM0yWkdbYA"
   },
   "source": [
    "df_merged['title'] = df_merged['title'].str.lower()\n",
    "df_merged['salary'] = df_merged['salary'].str.lower()\n",
    "df_merged['location'] = df_merged['location'].str.lower()\n",
    "df_merged['description'] = df_merged['description'].str.lower()\n",
    "df_merged['company'] = df_merged['company'].str.lower()"
   ],
   "execution_count": null,
   "outputs": []
  },
  {
   "cell_type": "code",
   "source": [
    "state_short_name_list = df_state_short_names['short_name'].str.lower()\n",
    "\n",
    "state_long_name_list = df_state_short_names['state_name'].str.lower()\n",
    "\n",
    "country_short_name_list = df_countries['country'].str.lower()\n",
    "\n",
    "country_long_name_list = df_countries['name'].str.lower()"
   ],
   "metadata": {
    "id": "POzTVuAEIizQ"
   },
   "execution_count": null,
   "outputs": []
  },
  {
   "cell_type": "code",
   "source": [
    "df_merged.head()"
   ],
   "metadata": {
    "colab": {
     "base_uri": "https://localhost:8080/",
     "height": 206
    },
    "id": "jTtf8xHrIyIe",
    "outputId": "b69170c9-e3b2-414a-c3e5-2eeb204c8071"
   },
   "execution_count": null,
   "outputs": [
    {
     "output_type": "execute_result",
     "data": {
      "text/html": [
       "<div>\n",
       "<style scoped>\n",
       "    .dataframe tbody tr th:only-of-type {\n",
       "        vertical-align: middle;\n",
       "    }\n",
       "\n",
       "    .dataframe tbody tr th {\n",
       "        vertical-align: top;\n",
       "    }\n",
       "\n",
       "    .dataframe thead th {\n",
       "        text-align: right;\n",
       "    }\n",
       "</style>\n",
       "<table border=\"1\" class=\"dataframe\">\n",
       "  <thead>\n",
       "    <tr style=\"text-align: right;\">\n",
       "      <th></th>\n",
       "      <th>company</th>\n",
       "      <th>description</th>\n",
       "      <th>location</th>\n",
       "      <th>salary</th>\n",
       "      <th>title</th>\n",
       "    </tr>\n",
       "  </thead>\n",
       "  <tbody>\n",
       "    <tr>\n",
       "      <th>0</th>\n",
       "      <td>aci federal™</td>\n",
       "      <td>5+ years data science analyst experience. crea...</td>\n",
       "      <td>falls church, va</td>\n",
       "      <td>$39.38 an hour</td>\n",
       "      <td>data science analyst</td>\n",
       "    </tr>\n",
       "    <tr>\n",
       "      <th>2</th>\n",
       "      <td>forward air, inc.</td>\n",
       "      <td>present information using data visualization t...</td>\n",
       "      <td>forest park, ga +1 location</td>\n",
       "      <td>$85,000 - $120,000 a year</td>\n",
       "      <td>data scientist</td>\n",
       "    </tr>\n",
       "    <tr>\n",
       "      <th>3</th>\n",
       "      <td>permanent general assurance corp.</td>\n",
       "      <td>as an associate data scientist, you will be in...</td>\n",
       "      <td>nashville, tn</td>\n",
       "      <td>$76,440 a year</td>\n",
       "      <td>associate data scientist</td>\n",
       "    </tr>\n",
       "    <tr>\n",
       "      <th>4</th>\n",
       "      <td>nova collective</td>\n",
       "      <td>working with raw survey data to produce clean ...</td>\n",
       "      <td>chicago, il</td>\n",
       "      <td>$30 - $35 an hour</td>\n",
       "      <td>data analyst</td>\n",
       "    </tr>\n",
       "    <tr>\n",
       "      <th>6</th>\n",
       "      <td>quality built</td>\n",
       "      <td>support the design of end-to-end data visualiz...</td>\n",
       "      <td>denver, co +4 locations</td>\n",
       "      <td>$65,000 - $80,000 a year</td>\n",
       "      <td>reporting and data science analyst</td>\n",
       "    </tr>\n",
       "  </tbody>\n",
       "</table>\n",
       "</div>"
      ],
      "text/plain": [
       "                             company  ...                               title\n",
       "0                       aci federal™  ...                data science analyst\n",
       "2                  forward air, inc.  ...                      data scientist\n",
       "3  permanent general assurance corp.  ...            associate data scientist\n",
       "4                    nova collective  ...                        data analyst\n",
       "6                      quality built  ...  reporting and data science analyst\n",
       "\n",
       "[5 rows x 5 columns]"
      ]
     },
     "metadata": {},
     "execution_count": 12
    }
   ]
  },
  {
   "cell_type": "markdown",
   "source": [
    "# Salary"
   ],
   "metadata": {
    "id": "MmCN9DmkLKDV"
   }
  },
  {
   "cell_type": "markdown",
   "metadata": {
    "id": "aCWYnfg-cw1h"
   },
   "source": [
    "## 1_Cleaning data"
   ]
  },
  {
   "cell_type": "code",
   "metadata": {
    "id": "PSjm4iWqW72M"
   },
   "source": [
    "df_merged['salary'] = df_merged['salary'].str.replace(',', '')"
   ],
   "execution_count": null,
   "outputs": []
  },
  {
   "cell_type": "markdown",
   "metadata": {
    "id": "zkCOGguQG7NX"
   },
   "source": [
    "### REGEX reset"
   ]
  },
  {
   "cell_type": "markdown",
   "metadata": {
    "id": "kZjofW85Xj6A"
   },
   "source": [
    "## 1_Cleaning data\n",
    "regex, regular expressions"
   ]
  },
  {
   "cell_type": "code",
   "metadata": {
    "id": "N4i2FPQnc6uS"
   },
   "source": [
    "regex_results_1 = df_merged['salary'].str.extract(r'(?P<sal_1>\\$\\d\\w+)', expand=True)\n",
    "\n",
    "regex_results_2 = df_merged['salary'].str.extract(r'(?P<sal_1>\\$\\d\\w+\\W-\\s\\$\\d\\w+\\s)', expand=True)"
   ],
   "execution_count": null,
   "outputs": []
  },
  {
   "cell_type": "markdown",
   "metadata": {
    "id": "_Dj-4dIKT8M0"
   },
   "source": [
    "## 1_Cleaning data\n",
    "Remove \"$\"-sign"
   ]
  },
  {
   "cell_type": "code",
   "metadata": {
    "id": "rFhcPBEgEypE"
   },
   "source": [
    "# single number salary\n",
    "regex_results_1['sal_1'] = regex_results_1['sal_1'].str.replace(\"$\",\"\").str.lstrip()\n",
    "# range of min-max salary\n",
    "regex_results_2['sal_1'] = regex_results_2['sal_1'].str.replace(\"$\",\"\").str.lstrip()"
   ],
   "execution_count": null,
   "outputs": []
  },
  {
   "cell_type": "markdown",
   "metadata": {
    "id": "PrudNqOsUEHW"
   },
   "source": [
    "## 1_Cleaning data\n",
    "Split using separator \"-\""
   ]
  },
  {
   "cell_type": "code",
   "metadata": {
    "id": "vQWQ26hfUAKC"
   },
   "source": [
    "regex_results_3 = regex_results_2['sal_1'].str.split(\"-\", n = 1, expand = True)"
   ],
   "execution_count": null,
   "outputs": []
  },
  {
   "cell_type": "markdown",
   "metadata": {
    "id": "z822kkulULbS"
   },
   "source": [
    "Remove \"$\"-sign"
   ]
  },
  {
   "cell_type": "code",
   "metadata": {
    "id": "HE68kf0jUN7s"
   },
   "source": [
    "regex_results_3['sal_min'] = regex_results_3[0].str.replace(\"$\",\"\").str.lstrip()\n",
    "regex_results_3['sal_max'] = regex_results_3[1].str.replace(\"$\",\"\").str.lstrip()"
   ],
   "execution_count": null,
   "outputs": []
  },
  {
   "cell_type": "markdown",
   "metadata": {
    "id": "UvOUL8eNT0J3"
   },
   "source": [
    "Add back split min_max values to source df"
   ]
  },
  {
   "cell_type": "code",
   "metadata": {
    "id": "3Xwzo68BTdoS"
   },
   "source": [
    "regex_results_2['sal_min'] = regex_results_3['sal_min']\n",
    "regex_results_2['sal_max'] = regex_results_3['sal_max']"
   ],
   "execution_count": null,
   "outputs": []
  },
  {
   "cell_type": "markdown",
   "metadata": {
    "id": "Ykvk_YYRTu21"
   },
   "source": [
    "## 1_Cleaning data\n",
    "Drop column containing redundant information "
   ]
  },
  {
   "cell_type": "code",
   "metadata": {
    "id": "w3dPr0_PSAJV"
   },
   "source": [
    "regex_results_2.drop('sal_1', axis=1, inplace=True)"
   ],
   "execution_count": null,
   "outputs": []
  },
  {
   "cell_type": "markdown",
   "metadata": {
    "id": "vA9kaHbxTna-"
   },
   "source": [
    "## 1_Cleaning data\n",
    "Replace NaN with 0 to enable error-free aritmetic operations"
   ]
  },
  {
   "cell_type": "code",
   "metadata": {
    "id": "TmGCDbxbRS-8"
   },
   "source": [
    "regex_results_2.fillna(0, inplace=True)"
   ],
   "execution_count": null,
   "outputs": []
  },
  {
   "cell_type": "code",
   "metadata": {
    "id": "ySr63zYbRqmQ"
   },
   "source": [
    "regex_results_2['sal_min'] = regex_results_2['sal_min'].astype(int)\n",
    "regex_results_2['sal_max'] = regex_results_2['sal_max'].astype(int)"
   ],
   "execution_count": null,
   "outputs": []
  },
  {
   "cell_type": "markdown",
   "metadata": {
    "id": "mD055Rq7Vsch"
   },
   "source": [
    "## 1_Cleaning data\n",
    "Consolidate Salary data. \n",
    "1.   if only 1 number available use it as min and max. \n",
    "2.   if range available then use separate min and max.\n",
    "3.   convert data types to appropriate ones\n",
    "\n",
    "\n",
    "\n",
    "\n"
   ]
  },
  {
   "cell_type": "code",
   "metadata": {
    "id": "gRIgruLFLkSD"
   },
   "source": [
    "# convert data types\n",
    "regex_results_1['sal_1'] = regex_results_1['sal_1'].astype(float)\n",
    "# fill na with 0\n",
    "regex_results_1.fillna(0, inplace=True)\n",
    "# convert data types\n",
    "regex_results_1['sal_1'] = regex_results_1['sal_1'].astype(int)\n",
    "# consolidate data\n",
    "regex_results_2['sal_1'] = regex_results_1['sal_1']"
   ],
   "execution_count": null,
   "outputs": []
  },
  {
   "cell_type": "code",
   "metadata": {
    "id": "HU0TutxSNb-0"
   },
   "source": [
    "# if only 1 number available use it as min and max. \n",
    "regex_results_2.loc[regex_results_2['sal_min'] ==0,'sal_min'] = regex_results_2['sal_1']\n",
    "regex_results_2.loc[regex_results_2['sal_max'] ==0,'sal_max'] = regex_results_2['sal_1']\n",
    "regex_results_2.drop('sal_1', axis=1, inplace=True)"
   ],
   "execution_count": null,
   "outputs": []
  },
  {
   "cell_type": "code",
   "metadata": {
    "id": "LAo0PieMOfPB"
   },
   "source": [
    "# if only 1 number available use it as min and max. \n",
    "df_merged['sal_max'] = regex_results_2['sal_max']\n",
    "df_merged['sal_min'] = regex_results_2['sal_min']"
   ],
   "execution_count": null,
   "outputs": []
  },
  {
   "cell_type": "markdown",
   "metadata": {
    "id": "X3NSXonDUTOn"
   },
   "source": [
    "## 1_Cleaning data\n",
    "Update salary monthly multiplier"
   ]
  },
  {
   "cell_type": "code",
   "metadata": {
    "id": "KPbspL_lPmSP"
   },
   "source": [
    "%%capture\n",
    "regex_results_4 = pd.DataFrame( df_merged['salary'].str.contains('month') )\n",
    "#regex_results_4\n",
    "salary_is_monthly_list = regex_results_4.index[regex_results_4['salary'] == True].tolist()\n",
    "#print(salary_is_monthly_list)\n",
    "#print(len(salary_is_monthly_list))\n",
    "#df_merged.iloc[salary_is_monthly_list,]\n",
    "df_merged['monthly_multiplier'] = 0\n",
    "df_merged['monthly_multiplier'].loc[salary_is_monthly_list,] = 12\n",
    "#df_merged['monthly_multiplier'].value_counts()"
   ],
   "execution_count": null,
   "outputs": []
  },
  {
   "cell_type": "markdown",
   "metadata": {
    "id": "GJbOxSjEU5b0"
   },
   "source": [
    "## 1_Cleaning data\n",
    "Update salary hourly multiplier"
   ]
  },
  {
   "cell_type": "code",
   "metadata": {
    "id": "TdZylKIgUezf"
   },
   "source": [
    "%%capture\n",
    "regex_results_5 = pd.DataFrame( df_merged['salary'].str.contains('hour') )\n",
    "#regex_results_5\n",
    "salary_is_hourly_list = regex_results_5.index[regex_results_5['salary'] == True].tolist()\n",
    "#print(salary_is_hourly_list)\n",
    "#print(len(salary_is_hourly_list))\n",
    "#df_merged.iloc[salary_is_hourly_list,]\n",
    "df_merged['hourly_multiplier'] = 0\n",
    "df_merged['hourly_multiplier'].loc[salary_is_hourly_list,] = 2000\n",
    "#df_merged['hourly_multiplier'].value_counts()"
   ],
   "execution_count": null,
   "outputs": []
  },
  {
   "cell_type": "markdown",
   "metadata": {
    "id": "kaKtfqcRYnWe"
   },
   "source": [
    "## 1_Cleaning data\n",
    "Update salary yearly multiplier"
   ]
  },
  {
   "cell_type": "code",
   "metadata": {
    "id": "iDZBtiJ9Ymp5"
   },
   "source": [
    "%%capture\n",
    "regex_results_6 = pd.DataFrame( df_merged['salary'].str.contains('year') )\n",
    "#regex_results_6\n",
    "salary_is_yearly_list = regex_results_6.index[regex_results_6['salary'] == True].tolist()\n",
    "#print(salary_is_yearly_list)\n",
    "#print(len(salary_is_yearly_list))\n",
    "#df_merged.iloc[salary_is_yearly_list,]\n",
    "df_merged['yearly_multiplier'] = 0\n",
    "df_merged['yearly_multiplier'].loc[salary_is_yearly_list,] = 1\n",
    "#df_merged['yearly_multiplier'].value_counts()"
   ],
   "execution_count": null,
   "outputs": []
  },
  {
   "cell_type": "code",
   "metadata": {
    "id": "i4maTTUUZhJT"
   },
   "source": [
    "df_merged['sal_global_multiplier'] = df_merged['hourly_multiplier'] + df_merged['monthly_multiplier'] + df_merged['yearly_multiplier']"
   ],
   "execution_count": null,
   "outputs": []
  },
  {
   "cell_type": "code",
   "metadata": {
    "id": "4zk0y_lhZ0kV"
   },
   "source": [
    "df_merged['sal_max_yearly'] = df_merged['sal_max'] * df_merged['sal_global_multiplier']\n",
    "df_merged['sal_min_yearly'] = df_merged['sal_min'] * df_merged['sal_global_multiplier']"
   ],
   "execution_count": null,
   "outputs": []
  },
  {
   "cell_type": "code",
   "source": [
    "#df_merged['sal_max_yearly'].value_counts(dropna=False, normalize=True)"
   ],
   "metadata": {
    "id": "ukKtg84qLmHH"
   },
   "execution_count": null,
   "outputs": []
  },
  {
   "cell_type": "code",
   "source": [
    "#df_merged['sal_min_yearly'].value_counts(dropna=False, normalize=True)"
   ],
   "metadata": {
    "id": "CwnVfkhwLzYo"
   },
   "execution_count": null,
   "outputs": []
  },
  {
   "cell_type": "code",
   "source": [
    "df_merged.columns"
   ],
   "metadata": {
    "colab": {
     "base_uri": "https://localhost:8080/"
    },
    "id": "Z4WeAZUeLvW9",
    "outputId": "9219be38-8e2d-409b-b0ba-a057a081f24b"
   },
   "execution_count": null,
   "outputs": [
    {
     "output_type": "execute_result",
     "data": {
      "text/plain": [
       "Index(['company', 'description', 'location', 'salary', 'title', 'sal_max',\n",
       "       'sal_min', 'monthly_multiplier', 'hourly_multiplier',\n",
       "       'yearly_multiplier', 'sal_global_multiplier', 'sal_max_yearly',\n",
       "       'sal_min_yearly'],\n",
       "      dtype='object')"
      ]
     },
     "metadata": {},
     "execution_count": 32
    }
   ]
  },
  {
   "cell_type": "code",
   "source": [
    "df_merged = df_merged[['title','company','location', 'description','sal_min_yearly','sal_max_yearly']]\n",
    "#df_merged.head()"
   ],
   "metadata": {
    "id": "11a3STWIL9gc"
   },
   "execution_count": null,
   "outputs": []
  },
  {
   "cell_type": "markdown",
   "metadata": {
    "id": "SxarXeZqabEs"
   },
   "source": [
    "# Location Column"
   ]
  },
  {
   "cell_type": "markdown",
   "metadata": {
    "id": "Crqtdc8VbJAU"
   },
   "source": [
    "## Reset location"
   ]
  },
  {
   "cell_type": "code",
   "metadata": {
    "id": "UHp9LkalpClM"
   },
   "source": [
    "df_location = df_merged['location']"
   ],
   "execution_count": null,
   "outputs": []
  },
  {
   "cell_type": "code",
   "metadata": {
    "id": "9TObVGKHo0Rp"
   },
   "source": [
    "%%capture\n",
    "remove_this = re.compile(r'\\w+,[[:space:]]\\w+')\n",
    "regex_results_new = df_location.str.replace(remove_this, \"\")"
   ],
   "execution_count": null,
   "outputs": []
  },
  {
   "cell_type": "markdown",
   "metadata": {
    "id": "jBYgsV9EsKXT"
   },
   "source": [
    "RESET split_location"
   ]
  },
  {
   "cell_type": "code",
   "metadata": {
    "id": "Ed7azKGfpR1Q"
   },
   "source": [
    "%%capture\n",
    "split_location = regex_results_new.str.split(\",\", n = 2, expand = True)\n",
    "split_location.columns = [\"city\",\"state_short\"]\n",
    "split_location['city'] = split_location['city'].str.strip().str.lower()\n",
    "split_location['state_short'] = split_location['state_short'].str.strip().str.lower()\n",
    "# fillna\n",
    "split_location.fillna(axis=0, inplace=True,value=\"unknown\", method=None)\n",
    "split_location.reset_index(inplace=True, drop=True)"
   ],
   "execution_count": null,
   "outputs": []
  },
  {
   "cell_type": "code",
   "source": [
    ""
   ],
   "metadata": {
    "id": "Ec7R1_XLL8IK"
   },
   "execution_count": null,
   "outputs": []
  },
  {
   "cell_type": "code",
   "source": [
    "for index_1 in range(0, len(split_location)):\n",
    "  split_location.loc[index_1,'len_state_short'] = len(split_location['state_short'][index_1])"
   ],
   "metadata": {
    "id": "yZ-hnBiLov2M"
   },
   "execution_count": null,
   "outputs": []
  },
  {
   "cell_type": "markdown",
   "metadata": {
    "id": "6IuWuVsh8xk8"
   },
   "source": [
    "Extract state short name"
   ]
  },
  {
   "cell_type": "code",
   "metadata": {
    "id": "VetoQJrjxaCw"
   },
   "source": [
    "# %%capture\n",
    "split_location['len_state_short'] = 0\n",
    "split_location['state_short_clean'] = \"xx\"\n",
    "\n",
    "for index_1 in range(0, len(split_location)):\n",
    "  if (split_location['len_state_short'][index_1] < 3):\n",
    "    split_location.loc[index_1,'state_short_clean']  = split_location.loc[index_1,'state_short'][0:2]\n",
    "\n",
    "  #if (split_location.loc[index_1,'state_short'] == \"unknown\"):\n",
    "    #split_location.loc[index_1,'state_short_clean'] = \"xx\"\n",
    "  #if split_location['state_short']\n",
    "  #print(index_1,\"=index \",\",,item=\", split_location['state_short'][index_1])"
   ],
   "execution_count": null,
   "outputs": []
  },
  {
   "cell_type": "code",
   "source": [
    "len(split_location)"
   ],
   "metadata": {
    "colab": {
     "base_uri": "https://localhost:8080/"
    },
    "id": "xC247t6CoZpG",
    "outputId": "894b4c5d-e359-4141-967b-0d109cfaca19"
   },
   "execution_count": null,
   "outputs": [
    {
     "output_type": "execute_result",
     "data": {
      "text/plain": [
       "898"
      ]
     },
     "metadata": {},
     "execution_count": 39
    }
   ]
  },
  {
   "cell_type": "code",
   "source": [
    "len(df_merged)"
   ],
   "metadata": {
    "colab": {
     "base_uri": "https://localhost:8080/"
    },
    "id": "0wSdF3rNoc2d",
    "outputId": "9e422482-c597-400e-cdde-8f95f6c344e1"
   },
   "execution_count": null,
   "outputs": [
    {
     "output_type": "execute_result",
     "data": {
      "text/plain": [
       "898"
      ]
     },
     "metadata": {},
     "execution_count": 40
    }
   ]
  },
  {
   "cell_type": "code",
   "source": [
    "df_merged.reset_index(inplace=True, drop=True)"
   ],
   "metadata": {
    "id": "rM8q843mqt4j"
   },
   "execution_count": null,
   "outputs": []
  },
  {
   "cell_type": "code",
   "source": [
    "df_merged['state_short_clean'] = split_location['state_short_clean']\n",
    "df_merged['city_clean'] = split_location['city']\n",
    "df_merged = df_merged.drop('location', axis=1)\n",
    "df_merged.reset_index(inplace=True, drop=True)\n",
    "df_merged"
   ],
   "metadata": {
    "colab": {
     "base_uri": "https://localhost:8080/",
     "height": 424
    },
    "id": "gPHEshu-nF_a",
    "outputId": "7722bef5-c3eb-4879-acbc-ce1d5d224f1f"
   },
   "execution_count": null,
   "outputs": [
    {
     "output_type": "execute_result",
     "data": {
      "text/html": [
       "<div>\n",
       "<style scoped>\n",
       "    .dataframe tbody tr th:only-of-type {\n",
       "        vertical-align: middle;\n",
       "    }\n",
       "\n",
       "    .dataframe tbody tr th {\n",
       "        vertical-align: top;\n",
       "    }\n",
       "\n",
       "    .dataframe thead th {\n",
       "        text-align: right;\n",
       "    }\n",
       "</style>\n",
       "<table border=\"1\" class=\"dataframe\">\n",
       "  <thead>\n",
       "    <tr style=\"text-align: right;\">\n",
       "      <th></th>\n",
       "      <th>title</th>\n",
       "      <th>company</th>\n",
       "      <th>description</th>\n",
       "      <th>sal_min_yearly</th>\n",
       "      <th>sal_max_yearly</th>\n",
       "      <th>state_short_clean</th>\n",
       "      <th>city_clean</th>\n",
       "    </tr>\n",
       "  </thead>\n",
       "  <tbody>\n",
       "    <tr>\n",
       "      <th>0</th>\n",
       "      <td>data science analyst</td>\n",
       "      <td>aci federal™</td>\n",
       "      <td>5+ years data science analyst experience. crea...</td>\n",
       "      <td>78000</td>\n",
       "      <td>78000</td>\n",
       "      <td>va</td>\n",
       "      <td>falls church</td>\n",
       "    </tr>\n",
       "    <tr>\n",
       "      <th>1</th>\n",
       "      <td>data scientist</td>\n",
       "      <td>forward air, inc.</td>\n",
       "      <td>present information using data visualization t...</td>\n",
       "      <td>85000</td>\n",
       "      <td>120000</td>\n",
       "      <td>ga</td>\n",
       "      <td>forest park</td>\n",
       "    </tr>\n",
       "    <tr>\n",
       "      <th>2</th>\n",
       "      <td>associate data scientist</td>\n",
       "      <td>permanent general assurance corp.</td>\n",
       "      <td>as an associate data scientist, you will be in...</td>\n",
       "      <td>76440</td>\n",
       "      <td>76440</td>\n",
       "      <td>tn</td>\n",
       "      <td>nashville</td>\n",
       "    </tr>\n",
       "    <tr>\n",
       "      <th>3</th>\n",
       "      <td>data analyst</td>\n",
       "      <td>nova collective</td>\n",
       "      <td>working with raw survey data to produce clean ...</td>\n",
       "      <td>60000</td>\n",
       "      <td>70000</td>\n",
       "      <td>il</td>\n",
       "      <td>chicago</td>\n",
       "    </tr>\n",
       "    <tr>\n",
       "      <th>4</th>\n",
       "      <td>reporting and data science analyst</td>\n",
       "      <td>quality built</td>\n",
       "      <td>support the design of end-to-end data visualiz...</td>\n",
       "      <td>65000</td>\n",
       "      <td>80000</td>\n",
       "      <td>co</td>\n",
       "      <td>denver</td>\n",
       "    </tr>\n",
       "    <tr>\n",
       "      <th>...</th>\n",
       "      <td>...</td>\n",
       "      <td>...</td>\n",
       "      <td>...</td>\n",
       "      <td>...</td>\n",
       "      <td>...</td>\n",
       "      <td>...</td>\n",
       "      <td>...</td>\n",
       "    </tr>\n",
       "    <tr>\n",
       "      <th>893</th>\n",
       "      <td>senior statistical programmer (sr. associate)</td>\n",
       "      <td>pfizer</td>\n",
       "      <td>working knowledge of clinical data and relevan...</td>\n",
       "      <td>70700</td>\n",
       "      <td>117900</td>\n",
       "      <td>pa</td>\n",
       "      <td>collegeville</td>\n",
       "    </tr>\n",
       "    <tr>\n",
       "      <th>894</th>\n",
       "      <td>healthcare analyst/statistical programmer</td>\n",
       "      <td>institute for accountable care</td>\n",
       "      <td>experience working with health care claims dat...</td>\n",
       "      <td>90000</td>\n",
       "      <td>130000</td>\n",
       "      <td>un</td>\n",
       "      <td>remote</td>\n",
       "    </tr>\n",
       "    <tr>\n",
       "      <th>895</th>\n",
       "      <td>research assistant/data analyst</td>\n",
       "      <td>institute of neuro innovation</td>\n",
       "      <td>education: undergraduate (minimum), graduate (...</td>\n",
       "      <td>52000</td>\n",
       "      <td>100000</td>\n",
       "      <td>ca</td>\n",
       "      <td>santa monica</td>\n",
       "    </tr>\n",
       "    <tr>\n",
       "      <th>896</th>\n",
       "      <td>senior statistical programmer (sr. associate)</td>\n",
       "      <td>pfizer</td>\n",
       "      <td>working knowledge of clinical data and relevan...</td>\n",
       "      <td>70700</td>\n",
       "      <td>117900</td>\n",
       "      <td>pa</td>\n",
       "      <td>collegeville</td>\n",
       "    </tr>\n",
       "    <tr>\n",
       "      <th>897</th>\n",
       "      <td>healthcare analyst/statistical programmer</td>\n",
       "      <td>institute for accountable care</td>\n",
       "      <td>experience working with health care claims dat...</td>\n",
       "      <td>90000</td>\n",
       "      <td>130000</td>\n",
       "      <td>un</td>\n",
       "      <td>remote</td>\n",
       "    </tr>\n",
       "  </tbody>\n",
       "</table>\n",
       "<p>898 rows × 7 columns</p>\n",
       "</div>"
      ],
      "text/plain": [
       "                                             title  ...    city_clean\n",
       "0                             data science analyst  ...  falls church\n",
       "1                                   data scientist  ...   forest park\n",
       "2                         associate data scientist  ...     nashville\n",
       "3                                     data analyst  ...       chicago\n",
       "4               reporting and data science analyst  ...        denver\n",
       "..                                             ...  ...           ...\n",
       "893  senior statistical programmer (sr. associate)  ...  collegeville\n",
       "894      healthcare analyst/statistical programmer  ...        remote\n",
       "895                research assistant/data analyst  ...  santa monica\n",
       "896  senior statistical programmer (sr. associate)  ...  collegeville\n",
       "897      healthcare analyst/statistical programmer  ...        remote\n",
       "\n",
       "[898 rows x 7 columns]"
      ]
     },
     "metadata": {},
     "execution_count": 42
    }
   ]
  },
  {
   "cell_type": "code",
   "source": [
    "split_location['city'].value_counts()"
   ],
   "metadata": {
    "colab": {
     "base_uri": "https://localhost:8080/"
    },
    "id": "lTupVCVSrzFm",
    "outputId": "be6fa1bf-2f78-4cc0-bd77-d377f076441c"
   },
   "execution_count": null,
   "outputs": [
    {
     "output_type": "execute_result",
     "data": {
      "text/plain": [
       "remote          282\n",
       "santa monica    209\n",
       "collegeville    209\n",
       "washington       21\n",
       "new york         12\n",
       "               ... \n",
       "sunnyvale         1\n",
       "dearborn          1\n",
       "san jose          1\n",
       "matthews          1\n",
       "worthington       1\n",
       "Name: city, Length: 112, dtype: int64"
      ]
     },
     "metadata": {},
     "execution_count": 43
    }
   ]
  },
  {
   "cell_type": "markdown",
   "source": [
    "# RESET df_merged"
   ],
   "metadata": {
    "id": "eNkb-6gTtVl7"
   }
  },
  {
   "cell_type": "code",
   "source": [
    "df_clean_location_salary = df_merged.copy()"
   ],
   "metadata": {
    "id": "FbTU6IQAsvds"
   },
   "execution_count": null,
   "outputs": []
  },
  {
   "cell_type": "code",
   "source": [
    "df_merged = df_clean_location_salary"
   ],
   "metadata": {
    "id": "R5xLHk-Gvaa3"
   },
   "execution_count": null,
   "outputs": []
  },
  {
   "cell_type": "code",
   "source": [
    "df_merged['title']"
   ],
   "metadata": {
    "colab": {
     "base_uri": "https://localhost:8080/"
    },
    "id": "VsePBZ6Zte8o",
    "outputId": "788fe16c-1e4d-4e6e-9d14-414e3d386b50"
   },
   "execution_count": null,
   "outputs": [
    {
     "output_type": "execute_result",
     "data": {
      "text/plain": [
       "0                               data science analyst\n",
       "1                                     data scientist\n",
       "2                           associate data scientist\n",
       "3                                       data analyst\n",
       "4                 reporting and data science analyst\n",
       "                           ...                      \n",
       "893    senior statistical programmer (sr. associate)\n",
       "894        healthcare analyst/statistical programmer\n",
       "895                  research assistant/data analyst\n",
       "896    senior statistical programmer (sr. associate)\n",
       "897        healthcare analyst/statistical programmer\n",
       "Name: title, Length: 898, dtype: object"
      ]
     },
     "metadata": {},
     "execution_count": 46
    }
   ]
  },
  {
   "cell_type": "markdown",
   "source": [
    "# Title column cleanup"
   ],
   "metadata": {
    "id": "u8D0VzSK30vM"
   }
  },
  {
   "cell_type": "markdown",
   "source": [
    "## reformat to known categories"
   ],
   "metadata": {
    "id": "5ibq4Cq937HQ"
   }
  },
  {
   "cell_type": "code",
   "source": [
    "df_merged['has_science'] = np.where ( df_merged['title'].str.find(\"science\") > -1, 1,0 )\n",
    "df_merged['has_scientist'] = np.where ( df_merged['title'].str.find(\"scientist\") > -1, 1,0 )\n",
    "df_merged['has_analyst'] = np.where ( df_merged['title'].str.find(\"analyst\") > -1, 1,0 )\n",
    "df_merged['has_engineer'] = np.where ( df_merged['title'].str.find(\"engineer\") > -1, 1,0 )\n",
    "\n",
    "df_merged['has_senior'] = np.where ( df_merged['title'].str.find(\"senior\") > -1, 1,0 )\n",
    "df_merged['has_director'] = np.where ( df_merged['title'].str.find(\"director\") > -1, 1,0 )\n",
    "df_merged['has_analytics'] = np.where ( df_merged['title'].str.find(\"analytics\") > -1, 1,0 )\n",
    "\n",
    "df_merged['has_data_science'] = np.where ( df_merged['title'].str.find(\"data science\") > -1, 1,0 )\n",
    "df_merged['has_data_scientist'] = np.where ( df_merged['title'].str.find(\"data scientist\") > -1, 1,0 )\n",
    "df_merged['has_data_analyst'] = np.where ( df_merged['title'].str.find(\"data analyst\") > -1, 1,0 )\n",
    "df_merged['has_data_engineer'] = np.where ( df_merged['title'].str.find(\"data engineer\") > -1, 1,0 )"
   ],
   "metadata": {
    "id": "0JbQrxWHtkVQ"
   },
   "execution_count": null,
   "outputs": []
  },
  {
   "cell_type": "code",
   "source": [
    "#1-data scientist\n",
    "#2-data analyst\n",
    "#3-data engineer\n",
    "df_merged['title_clean'] = np.select(condlist=[df_merged['title'].str.find(\"data scientist\") > -1,\n",
    "                                            df_merged['title'].str.find(\"data analyst\") > -1,\n",
    "                                            df_merged['title'].str.find(\"data engineer\") > -1,\n",
    "                                           ],\n",
    "                                  choicelist=[\"data_scientist\",\"data_analyst\",\"data_engineer\"], \n",
    "                                  default=0)"
   ],
   "metadata": {
    "id": "2MaZedXctrEY"
   },
   "execution_count": null,
   "outputs": []
  },
  {
   "cell_type": "code",
   "source": [
    "df_merged['title_clean'].value_counts(normalize=True)"
   ],
   "metadata": {
    "colab": {
     "base_uri": "https://localhost:8080/"
    },
    "id": "QF5lbTy1uddR",
    "outputId": "5b0bc177-9cb2-4ee9-a1a1-df668071b8c9"
   },
   "execution_count": null,
   "outputs": [
    {
     "output_type": "execute_result",
     "data": {
      "text/plain": [
       "0                 0.618040\n",
       "data_analyst      0.275056\n",
       "data_scientist    0.084633\n",
       "data_engineer     0.022272\n",
       "Name: title_clean, dtype: float64"
      ]
     },
     "metadata": {},
     "execution_count": 49
    }
   ]
  },
  {
   "cell_type": "code",
   "source": [
    "df_merged = df_merged.drop('title', axis=1)\n",
    "df_merged = df_merged.dropna()\n",
    "df_merged.reset_index(inplace=True, drop=True)\n",
    "df_merged"
   ],
   "metadata": {
    "colab": {
     "base_uri": "https://localhost:8080/",
     "height": 1000
    },
    "id": "4ADxwwSLu_D8",
    "outputId": "3f65b409-18fd-40c0-90e1-965eed81038f"
   },
   "execution_count": null,
   "outputs": [
    {
     "output_type": "execute_result",
     "data": {
      "text/html": [
       "<div>\n",
       "<style scoped>\n",
       "    .dataframe tbody tr th:only-of-type {\n",
       "        vertical-align: middle;\n",
       "    }\n",
       "\n",
       "    .dataframe tbody tr th {\n",
       "        vertical-align: top;\n",
       "    }\n",
       "\n",
       "    .dataframe thead th {\n",
       "        text-align: right;\n",
       "    }\n",
       "</style>\n",
       "<table border=\"1\" class=\"dataframe\">\n",
       "  <thead>\n",
       "    <tr style=\"text-align: right;\">\n",
       "      <th></th>\n",
       "      <th>company</th>\n",
       "      <th>description</th>\n",
       "      <th>sal_min_yearly</th>\n",
       "      <th>sal_max_yearly</th>\n",
       "      <th>state_short_clean</th>\n",
       "      <th>city_clean</th>\n",
       "      <th>has_science</th>\n",
       "      <th>has_scientist</th>\n",
       "      <th>has_analyst</th>\n",
       "      <th>has_engineer</th>\n",
       "      <th>has_senior</th>\n",
       "      <th>has_director</th>\n",
       "      <th>has_analytics</th>\n",
       "      <th>has_data_science</th>\n",
       "      <th>has_data_scientist</th>\n",
       "      <th>has_data_analyst</th>\n",
       "      <th>has_data_engineer</th>\n",
       "      <th>title_clean</th>\n",
       "    </tr>\n",
       "  </thead>\n",
       "  <tbody>\n",
       "    <tr>\n",
       "      <th>0</th>\n",
       "      <td>aci federal™</td>\n",
       "      <td>5+ years data science analyst experience. crea...</td>\n",
       "      <td>78000</td>\n",
       "      <td>78000</td>\n",
       "      <td>va</td>\n",
       "      <td>falls church</td>\n",
       "      <td>1</td>\n",
       "      <td>0</td>\n",
       "      <td>1</td>\n",
       "      <td>0</td>\n",
       "      <td>0</td>\n",
       "      <td>0</td>\n",
       "      <td>0</td>\n",
       "      <td>1</td>\n",
       "      <td>0</td>\n",
       "      <td>0</td>\n",
       "      <td>0</td>\n",
       "      <td>0</td>\n",
       "    </tr>\n",
       "    <tr>\n",
       "      <th>1</th>\n",
       "      <td>forward air, inc.</td>\n",
       "      <td>present information using data visualization t...</td>\n",
       "      <td>85000</td>\n",
       "      <td>120000</td>\n",
       "      <td>ga</td>\n",
       "      <td>forest park</td>\n",
       "      <td>0</td>\n",
       "      <td>1</td>\n",
       "      <td>0</td>\n",
       "      <td>0</td>\n",
       "      <td>0</td>\n",
       "      <td>0</td>\n",
       "      <td>0</td>\n",
       "      <td>0</td>\n",
       "      <td>1</td>\n",
       "      <td>0</td>\n",
       "      <td>0</td>\n",
       "      <td>data_scientist</td>\n",
       "    </tr>\n",
       "    <tr>\n",
       "      <th>2</th>\n",
       "      <td>permanent general assurance corp.</td>\n",
       "      <td>as an associate data scientist, you will be in...</td>\n",
       "      <td>76440</td>\n",
       "      <td>76440</td>\n",
       "      <td>tn</td>\n",
       "      <td>nashville</td>\n",
       "      <td>0</td>\n",
       "      <td>1</td>\n",
       "      <td>0</td>\n",
       "      <td>0</td>\n",
       "      <td>0</td>\n",
       "      <td>0</td>\n",
       "      <td>0</td>\n",
       "      <td>0</td>\n",
       "      <td>1</td>\n",
       "      <td>0</td>\n",
       "      <td>0</td>\n",
       "      <td>data_scientist</td>\n",
       "    </tr>\n",
       "    <tr>\n",
       "      <th>3</th>\n",
       "      <td>nova collective</td>\n",
       "      <td>working with raw survey data to produce clean ...</td>\n",
       "      <td>60000</td>\n",
       "      <td>70000</td>\n",
       "      <td>il</td>\n",
       "      <td>chicago</td>\n",
       "      <td>0</td>\n",
       "      <td>0</td>\n",
       "      <td>1</td>\n",
       "      <td>0</td>\n",
       "      <td>0</td>\n",
       "      <td>0</td>\n",
       "      <td>0</td>\n",
       "      <td>0</td>\n",
       "      <td>0</td>\n",
       "      <td>1</td>\n",
       "      <td>0</td>\n",
       "      <td>data_analyst</td>\n",
       "    </tr>\n",
       "    <tr>\n",
       "      <th>4</th>\n",
       "      <td>quality built</td>\n",
       "      <td>support the design of end-to-end data visualiz...</td>\n",
       "      <td>65000</td>\n",
       "      <td>80000</td>\n",
       "      <td>co</td>\n",
       "      <td>denver</td>\n",
       "      <td>1</td>\n",
       "      <td>0</td>\n",
       "      <td>1</td>\n",
       "      <td>0</td>\n",
       "      <td>0</td>\n",
       "      <td>0</td>\n",
       "      <td>0</td>\n",
       "      <td>1</td>\n",
       "      <td>0</td>\n",
       "      <td>0</td>\n",
       "      <td>0</td>\n",
       "      <td>0</td>\n",
       "    </tr>\n",
       "    <tr>\n",
       "      <th>...</th>\n",
       "      <td>...</td>\n",
       "      <td>...</td>\n",
       "      <td>...</td>\n",
       "      <td>...</td>\n",
       "      <td>...</td>\n",
       "      <td>...</td>\n",
       "      <td>...</td>\n",
       "      <td>...</td>\n",
       "      <td>...</td>\n",
       "      <td>...</td>\n",
       "      <td>...</td>\n",
       "      <td>...</td>\n",
       "      <td>...</td>\n",
       "      <td>...</td>\n",
       "      <td>...</td>\n",
       "      <td>...</td>\n",
       "      <td>...</td>\n",
       "      <td>...</td>\n",
       "    </tr>\n",
       "    <tr>\n",
       "      <th>893</th>\n",
       "      <td>pfizer</td>\n",
       "      <td>working knowledge of clinical data and relevan...</td>\n",
       "      <td>70700</td>\n",
       "      <td>117900</td>\n",
       "      <td>pa</td>\n",
       "      <td>collegeville</td>\n",
       "      <td>0</td>\n",
       "      <td>0</td>\n",
       "      <td>0</td>\n",
       "      <td>0</td>\n",
       "      <td>1</td>\n",
       "      <td>0</td>\n",
       "      <td>0</td>\n",
       "      <td>0</td>\n",
       "      <td>0</td>\n",
       "      <td>0</td>\n",
       "      <td>0</td>\n",
       "      <td>0</td>\n",
       "    </tr>\n",
       "    <tr>\n",
       "      <th>894</th>\n",
       "      <td>institute for accountable care</td>\n",
       "      <td>experience working with health care claims dat...</td>\n",
       "      <td>90000</td>\n",
       "      <td>130000</td>\n",
       "      <td>un</td>\n",
       "      <td>remote</td>\n",
       "      <td>0</td>\n",
       "      <td>0</td>\n",
       "      <td>1</td>\n",
       "      <td>0</td>\n",
       "      <td>0</td>\n",
       "      <td>0</td>\n",
       "      <td>0</td>\n",
       "      <td>0</td>\n",
       "      <td>0</td>\n",
       "      <td>0</td>\n",
       "      <td>0</td>\n",
       "      <td>0</td>\n",
       "    </tr>\n",
       "    <tr>\n",
       "      <th>895</th>\n",
       "      <td>institute of neuro innovation</td>\n",
       "      <td>education: undergraduate (minimum), graduate (...</td>\n",
       "      <td>52000</td>\n",
       "      <td>100000</td>\n",
       "      <td>ca</td>\n",
       "      <td>santa monica</td>\n",
       "      <td>0</td>\n",
       "      <td>0</td>\n",
       "      <td>1</td>\n",
       "      <td>0</td>\n",
       "      <td>0</td>\n",
       "      <td>0</td>\n",
       "      <td>0</td>\n",
       "      <td>0</td>\n",
       "      <td>0</td>\n",
       "      <td>1</td>\n",
       "      <td>0</td>\n",
       "      <td>data_analyst</td>\n",
       "    </tr>\n",
       "    <tr>\n",
       "      <th>896</th>\n",
       "      <td>pfizer</td>\n",
       "      <td>working knowledge of clinical data and relevan...</td>\n",
       "      <td>70700</td>\n",
       "      <td>117900</td>\n",
       "      <td>pa</td>\n",
       "      <td>collegeville</td>\n",
       "      <td>0</td>\n",
       "      <td>0</td>\n",
       "      <td>0</td>\n",
       "      <td>0</td>\n",
       "      <td>1</td>\n",
       "      <td>0</td>\n",
       "      <td>0</td>\n",
       "      <td>0</td>\n",
       "      <td>0</td>\n",
       "      <td>0</td>\n",
       "      <td>0</td>\n",
       "      <td>0</td>\n",
       "    </tr>\n",
       "    <tr>\n",
       "      <th>897</th>\n",
       "      <td>institute for accountable care</td>\n",
       "      <td>experience working with health care claims dat...</td>\n",
       "      <td>90000</td>\n",
       "      <td>130000</td>\n",
       "      <td>un</td>\n",
       "      <td>remote</td>\n",
       "      <td>0</td>\n",
       "      <td>0</td>\n",
       "      <td>1</td>\n",
       "      <td>0</td>\n",
       "      <td>0</td>\n",
       "      <td>0</td>\n",
       "      <td>0</td>\n",
       "      <td>0</td>\n",
       "      <td>0</td>\n",
       "      <td>0</td>\n",
       "      <td>0</td>\n",
       "      <td>0</td>\n",
       "    </tr>\n",
       "  </tbody>\n",
       "</table>\n",
       "<p>898 rows × 18 columns</p>\n",
       "</div>"
      ],
      "text/plain": [
       "                               company  ...     title_clean\n",
       "0                         aci federal™  ...               0\n",
       "1                    forward air, inc.  ...  data_scientist\n",
       "2    permanent general assurance corp.  ...  data_scientist\n",
       "3                      nova collective  ...    data_analyst\n",
       "4                        quality built  ...               0\n",
       "..                                 ...  ...             ...\n",
       "893                             pfizer  ...               0\n",
       "894     institute for accountable care  ...               0\n",
       "895      institute of neuro innovation  ...    data_analyst\n",
       "896                             pfizer  ...               0\n",
       "897     institute for accountable care  ...               0\n",
       "\n",
       "[898 rows x 18 columns]"
      ]
     },
     "metadata": {},
     "execution_count": 50
    }
   ]
  },
  {
   "cell_type": "code",
   "source": [
    "df_merged_clean_all = df_merged[df_merged.title_clean != \"0\"]"
   ],
   "metadata": {
    "id": "oiESKjvYwKm6"
   },
   "execution_count": null,
   "outputs": []
  },
  {
   "cell_type": "code",
   "source": [
    "df_merged_clean_all['title_clean'].value_counts()"
   ],
   "metadata": {
    "colab": {
     "base_uri": "https://localhost:8080/"
    },
    "id": "dzek8-ZCwaal",
    "outputId": "8320fd09-d697-474d-bff1-211ed1ca3a76"
   },
   "execution_count": null,
   "outputs": [
    {
     "output_type": "execute_result",
     "data": {
      "text/plain": [
       "data_analyst      247\n",
       "data_scientist     76\n",
       "data_engineer      20\n",
       "Name: title_clean, dtype: int64"
      ]
     },
     "metadata": {},
     "execution_count": 52
    }
   ]
  },
  {
   "cell_type": "code",
   "source": [
    "df_merged_clean_all.info()"
   ],
   "metadata": {
    "colab": {
     "base_uri": "https://localhost:8080/"
    },
    "id": "otI1yq6JwRb0",
    "outputId": "7d59d2d5-83fb-4246-9943-1346b0ae513e"
   },
   "execution_count": null,
   "outputs": [
    {
     "output_type": "stream",
     "name": "stdout",
     "text": [
      "<class 'pandas.core.frame.DataFrame'>\n",
      "Int64Index: 343 entries, 1 to 895\n",
      "Data columns (total 18 columns):\n",
      " #   Column              Non-Null Count  Dtype \n",
      "---  ------              --------------  ----- \n",
      " 0   company             343 non-null    object\n",
      " 1   description         343 non-null    object\n",
      " 2   sal_min_yearly      343 non-null    int64 \n",
      " 3   sal_max_yearly      343 non-null    int64 \n",
      " 4   state_short_clean   343 non-null    object\n",
      " 5   city_clean          343 non-null    object\n",
      " 6   has_science         343 non-null    int64 \n",
      " 7   has_scientist       343 non-null    int64 \n",
      " 8   has_analyst         343 non-null    int64 \n",
      " 9   has_engineer        343 non-null    int64 \n",
      " 10  has_senior          343 non-null    int64 \n",
      " 11  has_director        343 non-null    int64 \n",
      " 12  has_analytics       343 non-null    int64 \n",
      " 13  has_data_science    343 non-null    int64 \n",
      " 14  has_data_scientist  343 non-null    int64 \n",
      " 15  has_data_analyst    343 non-null    int64 \n",
      " 16  has_data_engineer   343 non-null    int64 \n",
      " 17  title_clean         343 non-null    object\n",
      "dtypes: int64(13), object(5)\n",
      "memory usage: 50.9+ KB\n"
     ]
    }
   ]
  },
  {
   "cell_type": "code",
   "source": [
    "df_merged_clean_all.columns"
   ],
   "metadata": {
    "colab": {
     "base_uri": "https://localhost:8080/"
    },
    "id": "NA3viUUmxTDy",
    "outputId": "1538c62e-a87b-47a0-f121-d832ef7ff663"
   },
   "execution_count": null,
   "outputs": [
    {
     "output_type": "execute_result",
     "data": {
      "text/plain": [
       "Index(['company', 'description', 'sal_min_yearly', 'sal_max_yearly',\n",
       "       'state_short_clean', 'city_clean', 'has_science', 'has_scientist',\n",
       "       'has_analyst', 'has_engineer', 'has_senior', 'has_director',\n",
       "       'has_analytics', 'has_data_science', 'has_data_scientist',\n",
       "       'has_data_analyst', 'has_data_engineer', 'title_clean'],\n",
       "      dtype='object')"
      ]
     },
     "metadata": {},
     "execution_count": 54
    }
   ]
  },
  {
   "cell_type": "code",
   "source": [
    "len( df_merged_clean_all)"
   ],
   "metadata": {
    "colab": {
     "base_uri": "https://localhost:8080/"
    },
    "id": "2K4vwKJrzhOP",
    "outputId": "63d40092-a644-4bc2-a69a-ed7cf39ada26"
   },
   "execution_count": null,
   "outputs": [
    {
     "output_type": "execute_result",
     "data": {
      "text/plain": [
       "343"
      ]
     },
     "metadata": {},
     "execution_count": 55
    }
   ]
  },
  {
   "cell_type": "code",
   "source": [
    "df_used_to_plot = df_merged_clean_all[['title_clean','company',\n",
    "                              'sal_min_yearly', 'sal_max_yearly',\n",
    "                              'city_clean','state_short_clean']]\n",
    "# rename columns\n",
    "df_used_to_plot.columns = ['title','company','sal_min_yearly', 'sal_max_yearly',\n",
    "                            'city_name','state_name']                         "
   ],
   "metadata": {
    "id": "Ng8SHXy4xMR7"
   },
   "execution_count": null,
   "outputs": []
  },
  {
   "cell_type": "code",
   "source": [
    "len(df_used_to_plot)"
   ],
   "metadata": {
    "colab": {
     "base_uri": "https://localhost:8080/"
    },
    "id": "BEj6u7xQ0FkV",
    "outputId": "f8dd9d14-80da-4e64-e292-f433eefd7444"
   },
   "execution_count": null,
   "outputs": [
    {
     "output_type": "execute_result",
     "data": {
      "text/plain": [
       "343"
      ]
     },
     "metadata": {},
     "execution_count": 57
    }
   ]
  },
  {
   "cell_type": "code",
   "source": [
    "df_used_to_plot.to_csv(\"/content/drive/MyDrive/final_project/data/use_for_plot_data.csv\")"
   ],
   "metadata": {
    "id": "lwxypH9yx2_x"
   },
   "execution_count": null,
   "outputs": []
  },
  {
   "cell_type": "code",
   "source": [
    "import matplotlib.pyplot as plt\n",
    "import seaborn as sns"
   ],
   "metadata": {
    "id": "QICrlM1U1qxX"
   },
   "execution_count": null,
   "outputs": []
  },
  {
   "cell_type": "code",
   "source": [
    "# NON-DASH\n",
    "# define func to make pie-chart\n",
    "def draw_pie_chart(label_have):\n",
    "  labels = 'have', '_not'\n",
    "  colors = ['g', 'y']\n",
    "\n",
    "  data_labels = [ df_merged_clean_all[str(label_have)].value_counts(normalize=True)[1], \n",
    "           df_merged_clean_all[str(label_have)].value_counts(normalize=True)[0]\n",
    "         ]\n",
    "  explode = (0.1, 0)\n",
    "  plt.pie(data_labels, \n",
    "          labels=labels, \n",
    "          colors=colors, \n",
    "          explode=explode, \n",
    "          startangle=90, \n",
    "          shadow=True, \n",
    "          autopct='%1.1f%%')\n",
    "  plot_title = 'job title has keywords ' + str(label_have)[4:]\n",
    "  plt.title(plot_title)\n",
    "  plt.show()"
   ],
   "metadata": {
    "id": "ucOwaZxs1Ta2"
   },
   "execution_count": null,
   "outputs": []
  },
  {
   "cell_type": "code",
   "source": [
    "#call func\n",
    "draw_pie_chart(\"has_data_scientist\")"
   ],
   "metadata": {
    "colab": {
     "base_uri": "https://localhost:8080/",
     "height": 264
    },
    "id": "TER9PSKD1cvC",
    "outputId": "914569e2-3c98-45ac-d9e0-0ed1ec900996"
   },
   "execution_count": null,
   "outputs": [
    {
     "output_type": "display_data",
     "data": {
      "image/png": "[encoded data removed]",
      "text/plain": [
       "<Figure size 432x288 with 1 Axes>"
      ]
     },
     "metadata": {}
    }
   ]
  },
  {
   "cell_type": "markdown",
   "source": [
    "### Explain Pie-chart\n",
    "about 22% of job titles have data_scientist keyword."
   ],
   "metadata": {
    "id": "cSDO9V3l1zVG"
   }
  },
  {
   "cell_type": "code",
   "metadata": {
    "id": "xHE2NB2VYmAU",
    "colab": {
     "base_uri": "https://localhost:8080/",
     "height": 264
    },
    "outputId": "b709a0aa-03cd-4f0b-f315-b1e11a55a058"
   },
   "source": [
    "#call func\n",
    "draw_pie_chart(\"has_data_analyst\")"
   ],
   "execution_count": null,
   "outputs": [
    {
     "output_type": "display_data",
     "data": {
      "image/png": "[encoded data removed]",
      "text/plain": [
       "<Figure size 432x288 with 1 Axes>"
      ]
     },
     "metadata": {}
    }
   ]
  },
  {
   "cell_type": "markdown",
   "metadata": {
    "id": "JMg9PyMWMQTw"
   },
   "source": [
    "### Explain Pie-chart\n",
    "about 28% (rounded up) of job titles have data_analyst keyword."
   ]
  },
  {
   "cell_type": "code",
   "metadata": {
    "id": "EP8h70g3Yw_c",
    "colab": {
     "base_uri": "https://localhost:8080/",
     "height": 264
    },
    "outputId": "48db37e4-22f4-4b25-f558-152fd22ca65b"
   },
   "source": [
    "#call func\n",
    "draw_pie_chart(\"has_data_engineer\")"
   ],
   "execution_count": null,
   "outputs": [
    {
     "output_type": "display_data",
     "data": {
      "image/png": "[encoded data removed]",
      "text/plain": [
       "<Figure size 432x288 with 1 Axes>"
      ]
     },
     "metadata": {}
    }
   ]
  },
  {
   "cell_type": "markdown",
   "metadata": {
    "id": "v4jDWNFMMYv2"
   },
   "source": [
    "### Explain Pie-chart\n",
    "only 6% (rounded down) of job titles have data_engineer keyword."
   ]
  },
  {
   "cell_type": "code",
   "source": [
    "df_merged_clean = df_merged_clean_all.copy()"
   ],
   "metadata": {
    "id": "EqDh5muP2Gvo"
   },
   "execution_count": null,
   "outputs": []
  },
  {
   "cell_type": "code",
   "metadata": {
    "id": "GNRu2DlcjIcY",
    "colab": {
     "base_uri": "https://localhost:8080/",
     "height": 636
    },
    "outputId": "f081b33e-469d-445a-d963-9b7e128d977e"
   },
   "source": [
    "df_title_category = pd.DataFrame(df_merged_clean.has_science.value_counts(dropna=False) )\n",
    "df_title_category.rename(columns={\"has_science\":\"frequency\"}, inplace=True)\n",
    "df_title_category.reset_index(inplace=True, drop=False) \n",
    "df_title_category.rename(columns={\"index\":\"has_science\"}, inplace=True)\n",
    "\n",
    "df_title_category.plot(figsize=(12,10),kind='bar', \n",
    "                  x='has_science', \n",
    "                  y='frequency', \n",
    "                  ylabel=\"frequency\",\n",
    "                  title=\"Histogram of has_science observations\")\\\n",
    "          .set_xticklabels(rotation=90,labels=df_title_category['has_science'])"
   ],
   "execution_count": null,
   "outputs": [
    {
     "output_type": "execute_result",
     "data": {
      "text/plain": [
       "[Text(0, 0, '0'), Text(0, 0, '1')]"
      ]
     },
     "metadata": {},
     "execution_count": 69
    },
    {
     "output_type": "display_data",
     "data": {
      "image/png": "[encoded data removed]",
      "text/plain": [
       "<Figure size 864x720 with 1 Axes>"
      ]
     },
     "metadata": {
      "needs_background": "light"
     }
    }
   ]
  },
  {
   "cell_type": "markdown",
   "metadata": {
    "id": "3vn3I2w3Xk70"
   },
   "source": [
    "### Explain histogram, has_science\n",
    "majority of the job title do NOT contain keyword \"science\""
   ]
  },
  {
   "cell_type": "code",
   "source": [
    ""
   ],
   "metadata": {
    "id": "AMfQKJmt2Tld"
   },
   "execution_count": null,
   "outputs": []
  },
  {
   "cell_type": "code",
   "metadata": {
    "id": "zgCGWLlVLaJz",
    "colab": {
     "base_uri": "https://localhost:8080/",
     "height": 636
    },
    "outputId": "652e447f-aec1-4ec8-af5c-dffa53969e13"
   },
   "source": [
    "df_title_category = pd.DataFrame(df_merged_clean.has_analyst.value_counts(dropna=False) )\n",
    "df_title_category.rename(columns={\"has_analyst\":\"frequency\"}, inplace=True)\n",
    "df_title_category.reset_index(inplace=True, drop=False) \n",
    "df_title_category.rename(columns={\"index\":\"has_analyst\"}, inplace=True)\n",
    "\n",
    "df_title_category.plot(figsize=(12,10),kind='bar', \n",
    "                  x='has_analyst', \n",
    "                  y='frequency', \n",
    "                  ylabel=\"frequency\",\n",
    "                  title=\"Histogram of has_analyst observations\")\\\n",
    "          .set_xticklabels(rotation=90,labels=df_title_category['has_analyst'])"
   ],
   "execution_count": null,
   "outputs": [
    {
     "output_type": "execute_result",
     "data": {
      "text/plain": [
       "[Text(0, 0, '1'), Text(0, 0, '0')]"
      ]
     },
     "metadata": {},
     "execution_count": 70
    },
    {
     "output_type": "display_data",
     "data": {
      "image/png": "[encoded data removed]",
      "text/plain": [
       "<Figure size 864x720 with 1 Axes>"
      ]
     },
     "metadata": {
      "needs_background": "light"
     }
    }
   ]
  },
  {
   "cell_type": "markdown",
   "metadata": {
    "id": "mGhQOWeeM-Nl"
   },
   "source": [
    "### Explain histogram, has_analyst\n",
    "majority of the job title do NOT contain keyword \"analyst\""
   ]
  },
  {
   "cell_type": "code",
   "metadata": {
    "id": "tVevhZ88NE-I",
    "colab": {
     "base_uri": "https://localhost:8080/",
     "height": 636
    },
    "outputId": "c1c51f58-7a54-4d07-be70-a6bdabf23dbd"
   },
   "source": [
    "df_title_category = pd.DataFrame(df_merged_clean.has_engineer.value_counts(dropna=False) )\n",
    "df_title_category.rename(columns={\"has_engineer\":\"frequency\"}, inplace=True)\n",
    "df_title_category.reset_index(inplace=True, drop=False) \n",
    "df_title_category.rename(columns={\"index\":\"has_engineer\"}, inplace=True)\n",
    "\n",
    "df_title_category.plot(figsize=(12,10),kind='bar', \n",
    "                  x='has_engineer', \n",
    "                  y='frequency', \n",
    "                  ylabel=\"frequency\",\n",
    "                  title=\"Histogram of has_engineer observations\")\\\n",
    "          .set_xticklabels(rotation=90,labels=df_title_category['has_engineer'])"
   ],
   "execution_count": null,
   "outputs": [
    {
     "output_type": "execute_result",
     "data": {
      "text/plain": [
       "[Text(0, 0, '0'), Text(0, 0, '1')]"
      ]
     },
     "metadata": {},
     "execution_count": 71
    },
    {
     "output_type": "display_data",
     "data": {
      "image/png": "[encoded data removed]",
      "text/plain": [
       "<Figure size 864x720 with 1 Axes>"
      ]
     },
     "metadata": {
      "needs_background": "light"
     }
    }
   ]
  },
  {
   "cell_type": "markdown",
   "metadata": {
    "id": "ZnrMx9MfNZom"
   },
   "source": [
    "### Explain histogram, has_engineer\n",
    "majority of the job title do NOT contain keyword \"engineer\""
   ]
  },
  {
   "cell_type": "markdown",
   "source": [
    "Use (df_merged)"
   ],
   "metadata": {
    "id": "YkS_j_F62zo4"
   }
  },
  {
   "cell_type": "code",
   "metadata": {
    "id": "XYq0kVjIXEum",
    "colab": {
     "base_uri": "https://localhost:8080/"
    },
    "outputId": "5833b7cb-95a9-46cd-f87a-c70e50595977"
   },
   "source": [
    "has_job_keywords_col_names = ['has_data_analyst','has_data_scientist','has_data_engineer']\n",
    "col_sums_1 = df_merged[has_job_keywords_col_names].sum()\n",
    "col_sums_2 = col_sums_1.sum()\n",
    "a = int( round( 100*( col_sums_2 / len(df_merged['title_clean'])),2))\n",
    "print(\"only {}% jobtitles have either of these keywords 'data_analyst','data_scientist','data_engineer'.\".format(a))"
   ],
   "execution_count": null,
   "outputs": [
    {
     "output_type": "stream",
     "name": "stdout",
     "text": [
      "only 38% jobtitles have either of these keywords 'data_analyst','data_scientist','data_engineer'.\n"
     ]
    }
   ]
  },
  {
   "cell_type": "code",
   "metadata": {
    "id": "SxOFt-GuavXz",
    "colab": {
     "base_uri": "https://localhost:8080/"
    },
    "outputId": "d756b34b-8d4c-46c4-ea79-b98822be8404"
   },
   "source": [
    "b=  round( 100*( col_sums_1 / len(df_merged['title_clean'])),0)\n",
    "#print (b)\n",
    "\n",
    "print(\"only {}% jobtitles have keyword 'data_analyst'.\".format( int( b[0] ) ) )\n",
    "print(\"only {}% jobtitles have keyword 'data_scientist'.\".format( int( b[1] ) ) )\n",
    "print(\"only {}% jobtitles have keyword 'data_engineer'.\".format( int( b[2] ) ) )"
   ],
   "execution_count": null,
   "outputs": [
    {
     "output_type": "stream",
     "name": "stdout",
     "text": [
      "only 28% jobtitles have keyword 'data_analyst'.\n",
      "only 8% jobtitles have keyword 'data_scientist'.\n",
      "only 2% jobtitles have keyword 'data_engineer'.\n"
     ]
    }
   ]
  },
  {
   "cell_type": "code",
   "source": [
    ""
   ],
   "metadata": {
    "id": "ztqZKLBr3KGL"
   },
   "execution_count": null,
   "outputs": []
  },
  {
   "cell_type": "markdown",
   "metadata": {
    "id": "Q5H1L9nqj3L0"
   },
   "source": [
    "# Correlations"
   ]
  },
  {
   "cell_type": "code",
   "source": [
    "df_clean_location_salary.columns"
   ],
   "metadata": {
    "colab": {
     "base_uri": "https://localhost:8080/"
    },
    "id": "Ijx1-rJd2YKL",
    "outputId": "85ca7de1-1f21-4769-b914-9fb6d9d39306"
   },
   "execution_count": null,
   "outputs": [
    {
     "output_type": "execute_result",
     "data": {
      "text/plain": [
       "Index(['title', 'company', 'description', 'sal_min_yearly', 'sal_max_yearly',\n",
       "       'state_short_clean', 'city_clean', 'has_science', 'has_scientist',\n",
       "       'has_analyst', 'has_engineer', 'has_senior', 'has_director',\n",
       "       'has_analytics', 'has_data_science', 'has_data_scientist',\n",
       "       'has_data_analyst', 'has_data_engineer', 'title_clean'],\n",
       "      dtype='object')"
      ]
     },
     "metadata": {},
     "execution_count": 84
    }
   ]
  },
  {
   "cell_type": "code",
   "source": [
    "df_clean_location_salary['title'].value_counts()"
   ],
   "metadata": {
    "colab": {
     "base_uri": "https://localhost:8080/"
    },
    "id": "aQJ59yzy3TGm",
    "outputId": "7880041b-106b-421b-d026-81e06a53d3d1"
   },
   "execution_count": null,
   "outputs": [
    {
     "output_type": "execute_result",
     "data": {
      "text/plain": [
       "senior statistical programmer (sr. associate)    209\n",
       "research assistant/data analyst                  209\n",
       "healthcare analyst/statistical programmer        209\n",
       "data scientist                                    35\n",
       "data engineer                                     12\n",
       "                                                ... \n",
       "business and reporting analyst                     1\n",
       "senior data science research analyst               1\n",
       "analytics associate                                1\n",
       "deep learning engineer (contract)                  1\n",
       "reporting and data science analyst                 1\n",
       "Name: title, Length: 197, dtype: int64"
      ]
     },
     "metadata": {},
     "execution_count": 85
    }
   ]
  },
  {
   "cell_type": "code",
   "metadata": {
    "id": "rJG-iAR9cmjv",
    "colab": {
     "base_uri": "https://localhost:8080/",
     "height": 300
    },
    "outputId": "2abeb553-27e8-455e-cb3e-e469875086c5"
   },
   "source": [
    "df_merged_clean_subset = df_clean_location_salary[['sal_max_yearly', 'sal_min_yearly',\n",
    "                                          'has_scientist', 'has_analyst', 'has_engineer',\n",
    "                                          'has_data_scientist', 'has_data_analyst','has_data_engineer']]\n",
    "\n",
    "corr_2 = df_merged_clean_subset.corr() # get correlation object\n",
    "corr_2"
   ],
   "execution_count": null,
   "outputs": [
    {
     "output_type": "execute_result",
     "data": {
      "text/html": [
       "<div>\n",
       "<style scoped>\n",
       "    .dataframe tbody tr th:only-of-type {\n",
       "        vertical-align: middle;\n",
       "    }\n",
       "\n",
       "    .dataframe tbody tr th {\n",
       "        vertical-align: top;\n",
       "    }\n",
       "\n",
       "    .dataframe thead th {\n",
       "        text-align: right;\n",
       "    }\n",
       "</style>\n",
       "<table border=\"1\" class=\"dataframe\">\n",
       "  <thead>\n",
       "    <tr style=\"text-align: right;\">\n",
       "      <th></th>\n",
       "      <th>sal_max_yearly</th>\n",
       "      <th>sal_min_yearly</th>\n",
       "      <th>has_scientist</th>\n",
       "      <th>has_analyst</th>\n",
       "      <th>has_engineer</th>\n",
       "      <th>has_data_scientist</th>\n",
       "      <th>has_data_analyst</th>\n",
       "      <th>has_data_engineer</th>\n",
       "    </tr>\n",
       "  </thead>\n",
       "  <tbody>\n",
       "    <tr>\n",
       "      <th>sal_max_yearly</th>\n",
       "      <td>1.000000</td>\n",
       "      <td>0.745437</td>\n",
       "      <td>0.117673</td>\n",
       "      <td>-0.192796</td>\n",
       "      <td>0.147480</td>\n",
       "      <td>0.119482</td>\n",
       "      <td>-0.381634</td>\n",
       "      <td>0.080821</td>\n",
       "    </tr>\n",
       "    <tr>\n",
       "      <th>sal_min_yearly</th>\n",
       "      <td>0.745437</td>\n",
       "      <td>1.000000</td>\n",
       "      <td>0.183439</td>\n",
       "      <td>-0.203836</td>\n",
       "      <td>0.189579</td>\n",
       "      <td>0.180122</td>\n",
       "      <td>-0.510440</td>\n",
       "      <td>0.130853</td>\n",
       "    </tr>\n",
       "    <tr>\n",
       "      <th>has_scientist</th>\n",
       "      <td>0.117673</td>\n",
       "      <td>0.183439</td>\n",
       "      <td>1.000000</td>\n",
       "      <td>-0.309032</td>\n",
       "      <td>-0.052876</td>\n",
       "      <td>0.972305</td>\n",
       "      <td>-0.183877</td>\n",
       "      <td>-0.022526</td>\n",
       "    </tr>\n",
       "    <tr>\n",
       "      <th>has_analyst</th>\n",
       "      <td>-0.192796</td>\n",
       "      <td>-0.203836</td>\n",
       "      <td>-0.309032</td>\n",
       "      <td>1.000000</td>\n",
       "      <td>-0.247082</td>\n",
       "      <td>-0.306898</td>\n",
       "      <td>0.565867</td>\n",
       "      <td>-0.168443</td>\n",
       "    </tr>\n",
       "    <tr>\n",
       "      <th>has_engineer</th>\n",
       "      <td>0.147480</td>\n",
       "      <td>0.189579</td>\n",
       "      <td>-0.052876</td>\n",
       "      <td>-0.247082</td>\n",
       "      <td>1.000000</td>\n",
       "      <td>-0.050485</td>\n",
       "      <td>-0.139816</td>\n",
       "      <td>0.681730</td>\n",
       "    </tr>\n",
       "    <tr>\n",
       "      <th>has_data_scientist</th>\n",
       "      <td>0.119482</td>\n",
       "      <td>0.180122</td>\n",
       "      <td>0.972305</td>\n",
       "      <td>-0.306898</td>\n",
       "      <td>-0.050485</td>\n",
       "      <td>1.000000</td>\n",
       "      <td>-0.187296</td>\n",
       "      <td>-0.020578</td>\n",
       "    </tr>\n",
       "    <tr>\n",
       "      <th>has_data_analyst</th>\n",
       "      <td>-0.381634</td>\n",
       "      <td>-0.510440</td>\n",
       "      <td>-0.183877</td>\n",
       "      <td>0.565867</td>\n",
       "      <td>-0.139816</td>\n",
       "      <td>-0.187296</td>\n",
       "      <td>1.000000</td>\n",
       "      <td>-0.095316</td>\n",
       "    </tr>\n",
       "    <tr>\n",
       "      <th>has_data_engineer</th>\n",
       "      <td>0.080821</td>\n",
       "      <td>0.130853</td>\n",
       "      <td>-0.022526</td>\n",
       "      <td>-0.168443</td>\n",
       "      <td>0.681730</td>\n",
       "      <td>-0.020578</td>\n",
       "      <td>-0.095316</td>\n",
       "      <td>1.000000</td>\n",
       "    </tr>\n",
       "  </tbody>\n",
       "</table>\n",
       "</div>"
      ],
      "text/plain": [
       "                    sal_max_yearly  ...  has_data_engineer\n",
       "sal_max_yearly            1.000000  ...           0.080821\n",
       "sal_min_yearly            0.745437  ...           0.130853\n",
       "has_scientist             0.117673  ...          -0.022526\n",
       "has_analyst              -0.192796  ...          -0.168443\n",
       "has_engineer              0.147480  ...           0.681730\n",
       "has_data_scientist        0.119482  ...          -0.020578\n",
       "has_data_analyst         -0.381634  ...          -0.095316\n",
       "has_data_engineer         0.080821  ...           1.000000\n",
       "\n",
       "[8 rows x 8 columns]"
      ]
     },
     "metadata": {},
     "execution_count": 86
    }
   ]
  },
  {
   "cell_type": "markdown",
   "source": [
    "## salary, job title keywords\n",
    "\n",
    "\n",
    "* Maximum yearly salary is positively correlated with titles that have \"data_engineer\" keyword. "
   ],
   "metadata": {
    "id": "IyF2J6wV4Ps_"
   }
  },
  {
   "cell_type": "code",
   "metadata": {
    "id": "alDbyOzulI_6",
    "colab": {
     "base_uri": "https://localhost:8080/",
     "height": 175
    },
    "outputId": "ba0c8bfc-c254-4c6d-f536-1fb21e919241"
   },
   "source": [
    "df_merged_clean_subset = df_clean_location_salary[['sal_max_yearly', 'sal_min_yearly',\n",
    "                                          'has_senior', 'has_director']]\n",
    "\n",
    "corr_3 = df_merged_clean_subset.corr() # get correlation object\n",
    "corr_3"
   ],
   "execution_count": null,
   "outputs": [
    {
     "output_type": "execute_result",
     "data": {
      "text/html": [
       "<div>\n",
       "<style scoped>\n",
       "    .dataframe tbody tr th:only-of-type {\n",
       "        vertical-align: middle;\n",
       "    }\n",
       "\n",
       "    .dataframe tbody tr th {\n",
       "        vertical-align: top;\n",
       "    }\n",
       "\n",
       "    .dataframe thead th {\n",
       "        text-align: right;\n",
       "    }\n",
       "</style>\n",
       "<table border=\"1\" class=\"dataframe\">\n",
       "  <thead>\n",
       "    <tr style=\"text-align: right;\">\n",
       "      <th></th>\n",
       "      <th>sal_max_yearly</th>\n",
       "      <th>sal_min_yearly</th>\n",
       "      <th>has_senior</th>\n",
       "      <th>has_director</th>\n",
       "    </tr>\n",
       "  </thead>\n",
       "  <tbody>\n",
       "    <tr>\n",
       "      <th>sal_max_yearly</th>\n",
       "      <td>1.000000</td>\n",
       "      <td>0.745437</td>\n",
       "      <td>0.049040</td>\n",
       "      <td>0.256919</td>\n",
       "    </tr>\n",
       "    <tr>\n",
       "      <th>sal_min_yearly</th>\n",
       "      <td>0.745437</td>\n",
       "      <td>1.000000</td>\n",
       "      <td>-0.043514</td>\n",
       "      <td>0.248152</td>\n",
       "    </tr>\n",
       "    <tr>\n",
       "      <th>has_senior</th>\n",
       "      <td>0.049040</td>\n",
       "      <td>-0.043514</td>\n",
       "      <td>1.000000</td>\n",
       "      <td>-0.056283</td>\n",
       "    </tr>\n",
       "    <tr>\n",
       "      <th>has_director</th>\n",
       "      <td>0.256919</td>\n",
       "      <td>0.248152</td>\n",
       "      <td>-0.056283</td>\n",
       "      <td>1.000000</td>\n",
       "    </tr>\n",
       "  </tbody>\n",
       "</table>\n",
       "</div>"
      ],
      "text/plain": [
       "                sal_max_yearly  sal_min_yearly  has_senior  has_director\n",
       "sal_max_yearly        1.000000        0.745437    0.049040      0.256919\n",
       "sal_min_yearly        0.745437        1.000000   -0.043514      0.248152\n",
       "has_senior            0.049040       -0.043514    1.000000     -0.056283\n",
       "has_director          0.256919        0.248152   -0.056283      1.000000"
      ]
     },
     "metadata": {},
     "execution_count": 87
    }
   ]
  },
  {
   "cell_type": "markdown",
   "metadata": {
    "id": "IeQDxBGolgCr"
   },
   "source": [
    "## salary, job seniority keywords\n",
    "\n",
    "\n",
    "* Maximum yearly salary is very highly (in this context) correlated with titles that have \"Director\" keyword.\n"
   ]
  },
  {
   "cell_type": "code",
   "metadata": {
    "id": "W7xxtFBamUSs",
    "colab": {
     "base_uri": "https://localhost:8080/",
     "height": 238
    },
    "outputId": "8e1ed736-1f2d-4f3c-ba33-cbda89453710"
   },
   "source": [
    "df_merged_clean_subset = df_clean_location_salary[['sal_max_yearly', 'sal_min_yearly',\n",
    "                                          'has_science', 'has_scientist', \n",
    "                                          'has_analytics',\n",
    "                                          'has_data_science']]\n",
    "\n",
    "corr_4 = df_merged_clean_subset.corr() # get correlation object\n",
    "corr_4"
   ],
   "execution_count": null,
   "outputs": [
    {
     "output_type": "execute_result",
     "data": {
      "text/html": [
       "<div>\n",
       "<style scoped>\n",
       "    .dataframe tbody tr th:only-of-type {\n",
       "        vertical-align: middle;\n",
       "    }\n",
       "\n",
       "    .dataframe tbody tr th {\n",
       "        vertical-align: top;\n",
       "    }\n",
       "\n",
       "    .dataframe thead th {\n",
       "        text-align: right;\n",
       "    }\n",
       "</style>\n",
       "<table border=\"1\" class=\"dataframe\">\n",
       "  <thead>\n",
       "    <tr style=\"text-align: right;\">\n",
       "      <th></th>\n",
       "      <th>sal_max_yearly</th>\n",
       "      <th>sal_min_yearly</th>\n",
       "      <th>has_science</th>\n",
       "      <th>has_scientist</th>\n",
       "      <th>has_analytics</th>\n",
       "      <th>has_data_science</th>\n",
       "    </tr>\n",
       "  </thead>\n",
       "  <tbody>\n",
       "    <tr>\n",
       "      <th>sal_max_yearly</th>\n",
       "      <td>1.000000</td>\n",
       "      <td>0.745437</td>\n",
       "      <td>0.201088</td>\n",
       "      <td>0.117673</td>\n",
       "      <td>0.090895</td>\n",
       "      <td>0.184116</td>\n",
       "    </tr>\n",
       "    <tr>\n",
       "      <th>sal_min_yearly</th>\n",
       "      <td>0.745437</td>\n",
       "      <td>1.000000</td>\n",
       "      <td>0.206973</td>\n",
       "      <td>0.183439</td>\n",
       "      <td>0.170054</td>\n",
       "      <td>0.180161</td>\n",
       "    </tr>\n",
       "    <tr>\n",
       "      <th>has_science</th>\n",
       "      <td>0.201088</td>\n",
       "      <td>0.206973</td>\n",
       "      <td>1.000000</td>\n",
       "      <td>-0.039028</td>\n",
       "      <td>0.177870</td>\n",
       "      <td>0.967130</td>\n",
       "    </tr>\n",
       "    <tr>\n",
       "      <th>has_scientist</th>\n",
       "      <td>0.117673</td>\n",
       "      <td>0.183439</td>\n",
       "      <td>-0.039028</td>\n",
       "      <td>1.000000</td>\n",
       "      <td>-0.005175</td>\n",
       "      <td>-0.058139</td>\n",
       "    </tr>\n",
       "    <tr>\n",
       "      <th>has_analytics</th>\n",
       "      <td>0.090895</td>\n",
       "      <td>0.170054</td>\n",
       "      <td>0.177870</td>\n",
       "      <td>-0.005175</td>\n",
       "      <td>1.000000</td>\n",
       "      <td>0.184994</td>\n",
       "    </tr>\n",
       "    <tr>\n",
       "      <th>has_data_science</th>\n",
       "      <td>0.184116</td>\n",
       "      <td>0.180161</td>\n",
       "      <td>0.967130</td>\n",
       "      <td>-0.058139</td>\n",
       "      <td>0.184994</td>\n",
       "      <td>1.000000</td>\n",
       "    </tr>\n",
       "  </tbody>\n",
       "</table>\n",
       "</div>"
      ],
      "text/plain": [
       "                  sal_max_yearly  ...  has_data_science\n",
       "sal_max_yearly          1.000000  ...          0.184116\n",
       "sal_min_yearly          0.745437  ...          0.180161\n",
       "has_science             0.201088  ...          0.967130\n",
       "has_scientist           0.117673  ...         -0.058139\n",
       "has_analytics           0.090895  ...          0.184994\n",
       "has_data_science        0.184116  ...          1.000000\n",
       "\n",
       "[6 rows x 6 columns]"
      ]
     },
     "metadata": {},
     "execution_count": 88
    }
   ]
  },
  {
   "cell_type": "markdown",
   "metadata": {
    "id": "bKx2hxTUmUrj"
   },
   "source": [
    "* Maximum yearly salary is positively correlated with titles that have \"science\" keyword. "
   ]
  },
  {
   "cell_type": "code",
   "metadata": {
    "id": "vviPIsAD_VTI",
    "colab": {
     "base_uri": "https://localhost:8080/",
     "height": 560
    },
    "outputId": "08391cff-f31f-40fa-a26b-293d9b3cf647"
   },
   "source": [
    "df_merged_clean_subset = df_clean_location_salary[['sal_max_yearly', 'sal_min_yearly',\n",
    "                                          'has_science', 'has_scientist', \n",
    "                                          'has_analyst','has_engineer', \n",
    "                                          'has_senior', 'has_director', \n",
    "                                          'has_analytics', 'has_data_science', \n",
    "                                          'has_data_scientist', 'has_data_analyst',\n",
    "                                          'has_data_engineer']]\n",
    "\n",
    "corr_5 = df_merged_clean_subset.corr() # get correlation object\n",
    "\n",
    "ax = sns.heatmap( corr_5, \n",
    "                  vmin=-1, vmax=1, center=0,\n",
    "                  cmap=sns.diverging_palette(100, 520, n=100),\n",
    "                  square=True\n",
    "                )\n",
    "\n",
    "ax.set_xticklabels(\n",
    "                    ax.get_xticklabels(),\n",
    "                    rotation=45,\n",
    "                    horizontalalignment='right'\n",
    "                  )"
   ],
   "execution_count": null,
   "outputs": [
    {
     "output_type": "execute_result",
     "data": {
      "text/plain": [
       "[Text(0.5, 0, 'sal_max_yearly'),\n",
       " Text(1.5, 0, 'sal_min_yearly'),\n",
       " Text(2.5, 0, 'has_science'),\n",
       " Text(3.5, 0, 'has_scientist'),\n",
       " Text(4.5, 0, 'has_analyst'),\n",
       " Text(5.5, 0, 'has_engineer'),\n",
       " Text(6.5, 0, 'has_senior'),\n",
       " Text(7.5, 0, 'has_director'),\n",
       " Text(8.5, 0, 'has_analytics'),\n",
       " Text(9.5, 0, 'has_data_science'),\n",
       " Text(10.5, 0, 'has_data_scientist'),\n",
       " Text(11.5, 0, 'has_data_analyst'),\n",
       " Text(12.5, 0, 'has_data_engineer')]"
      ]
     },
     "metadata": {},
     "execution_count": 93
    },
    {
     "output_type": "display_data",
     "data": {
      "image/png": "[encoded data removed]",
      "text/plain": [
       "<Figure size 432x288 with 2 Axes>"
      ]
     },
     "metadata": {
      "needs_background": "light"
     }
    }
   ]
  },
  {
   "cell_type": "markdown",
   "metadata": {
    "id": "HbjsL23RX1Mc"
   },
   "source": [
    "### Explain Heatmap\n",
    "* Maximum yearly salary shows negative correlation with job titles with keywords \"analyst\" and \"data_analyst\". \n",
    "* Maximum yearly salary shows positive correlation with job titles with keywords \"data_engineer\""
   ]
  },
  {
   "cell_type": "code",
   "source": [
    "print(corr_5)"
   ],
   "metadata": {
    "colab": {
     "base_uri": "https://localhost:8080/"
    },
    "id": "g5u_qFik5_Fx",
    "outputId": "dbca0291-ef5d-444d-b726-f4c7cf5b43ba"
   },
   "execution_count": null,
   "outputs": [
    {
     "output_type": "stream",
     "name": "stdout",
     "text": [
      "                    sal_max_yearly  ...  has_data_engineer\n",
      "sal_max_yearly            1.000000  ...           0.080821\n",
      "sal_min_yearly            0.745437  ...           0.130853\n",
      "has_science               0.201088  ...          -0.029746\n",
      "has_scientist             0.117673  ...          -0.022526\n",
      "has_analyst              -0.192796  ...          -0.168443\n",
      "has_engineer              0.147480  ...           0.681730\n",
      "has_senior                0.049040  ...          -0.075074\n",
      "has_director              0.256919  ...          -0.014671\n",
      "has_analytics             0.090895  ...          -0.018755\n",
      "has_data_science          0.184116  ...          -0.028768\n",
      "has_data_scientist        0.119482  ...          -0.020578\n",
      "has_data_analyst         -0.381634  ...          -0.095316\n",
      "has_data_engineer         0.080821  ...           1.000000\n",
      "\n",
      "[13 rows x 13 columns]\n"
     ]
    }
   ]
  },
  {
   "cell_type": "code",
   "metadata": {
    "id": "YvNfA2fSqQ9i"
   },
   "source": [
    "#df_clean_location_salary['state_short_clean'].value_counts()"
   ],
   "execution_count": null,
   "outputs": []
  },
  {
   "cell_type": "code",
   "metadata": {
    "id": "S9CrOZ72rq0s"
   },
   "source": [
    "# create filtered df for grouping\n",
    "df_merged_clean_subset = df_clean_location_salary[['sal_max_yearly', 'sal_min_yearly','state_short_clean']]\n",
    "\n",
    "df_merged_clean_subset = df_merged_clean_subset [ df_merged_clean_subset['state_short_clean']!= \"un\" ]\n",
    "\n",
    "#df_merged_clean_subset['state_short_clean'].value_counts()[0:30]"
   ],
   "execution_count": null,
   "outputs": []
  },
  {
   "cell_type": "code",
   "metadata": {
    "id": "O8lU0M58_7bw",
    "colab": {
     "base_uri": "https://localhost:8080/",
     "height": 428
    },
    "outputId": "49a29da4-4a98-4e83-abe0-5626af94fadf"
   },
   "source": [
    "# get median salary_max data by city\n",
    "groupby_column_name = \"state_short_clean\"\n",
    "median_df_grouped_salary_max = pd.DataFrame(df_merged_clean_subset.groupby(groupby_column_name)['sal_max_yearly'].agg('median'))\n",
    "# sort values of median(salary_max), descending order\n",
    "median_df_grouped_salary_max.sort_values(by='sal_max_yearly',ascending=False,inplace=True)\n",
    "median_df_grouped_salary_max.reset_index(inplace=True, drop=False)\n",
    "#plot\n",
    "plt.figure(figsize=(20, 6))\n",
    "\n",
    "f = median_df_grouped_salary_max['sal_max_yearly'].plot( \n",
    "        kind='bar', \n",
    "        title=\"bar plot median(salary_max)\", \n",
    "        xlabel= groupby_column_name)\n",
    "\n",
    "f.set_xticklabels(rotation= 90,\n",
    "                   labels= median_df_grouped_salary_max[groupby_column_name])\n",
    "plt.ylabel('median(salary_max)')\n",
    "\n",
    "display(f)\n"
   ],
   "execution_count": null,
   "outputs": [
    {
     "output_type": "display_data",
     "data": {
      "text/plain": [
       "<matplotlib.axes._subplots.AxesSubplot at 0x7efe7571d990>"
      ]
     },
     "metadata": {}
    },
    {
     "output_type": "display_data",
     "data": {
      "image/png": "[encoded data removed]",
      "text/plain": [
       "<Figure size 1440x432 with 1 Axes>"
      ]
     },
     "metadata": {
      "needs_background": "light"
     }
    }
   ]
  },
  {
   "cell_type": "markdown",
   "source": [
    "### Explain bar chart\n",
    "* Highest median salary (considering maximum yearly salary) was on offer for State of (ak) Arkansas, and NOT California.\n",
    "* Highest median salary (considering maximum yearly salary) was on offer for State of (ma) Massachusetts\n",
    "* Generally speaking, median salaries are fairly high in most states."
   ],
   "metadata": {
    "id": "dSNnY4KY6tn2"
   }
  }
 ]
}