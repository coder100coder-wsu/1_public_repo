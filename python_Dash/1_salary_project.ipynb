{
 "nbformat": 4,
 "nbformat_minor": 0,
 "metadata": {
  "colab": {
   "name": "Final_final_project.ipynb",
   "provenance": [],
   "collapsed_sections": [],
   "toc_visible": true
  },
  "kernelspec": {
   "name": "python3",
   "display_name": "Python 3"
  }
 },
 "cells": [
  {
   "cell_type": "markdown",
   "metadata": {
    "id": "zAYBUrShKDT8"
   },
   "source": [
    "# Import packages\n",
    "pandas, numpy, plotly, regex, matplotlib, seaborn"
   ]
  },
  {
   "cell_type": "code",
   "metadata": {
    "id": "nNcI-1Ph1QA0"
   },
   "source": [
    "import pandas as pd\n",
    "import numpy as np\n",
    "import re"
   ],
   "execution_count": 1,
   "outputs": []
  },
  {
   "cell_type": "markdown",
   "metadata": {
    "id": "nU2AKiJIKLlo"
   },
   "source": [
    "### Load data, read.csv()"
   ]
  },
  {
   "cell_type": "code",
   "source": [
    "df_countries = pd.read_csv(\"list_countries.csv\", encoding='latin-1')\n",
    "df_state_short_names = pd.read_csv(\"state_short_names.csv\")"
   ],
   "metadata": {
    "id": "kjg6DyTYGoeS"
   },
   "execution_count": 2,
   "outputs": []
  },
  {
   "cell_type": "code",
   "source": [
    "df_simplyhired = pd.read_csv(\"simplyhired.csv\")\n",
    "df_merged = df_simplyhired.copy()"
   ],
   "metadata": {
    "id": "UgVRQaoqFFZR"
   },
   "execution_count": 3,
   "outputs": []
  },
  {
   "cell_type": "code",
   "source": [
    "#drop unnamed column\n",
    "df_merged = df_merged.drop(['Unnamed: 0'], axis = 1)\n",
    "df_merged.reset_index(inplace=True, drop=True)\n",
    "df_merged.index"
   ],
   "metadata": {
    "colab": {
     "base_uri": "https://localhost:8080/"
    },
    "id": "RgCtySUIHRvJ",
    "outputId": "b95cab62-24ed-4bd9-9b56-8471267f9c36"
   },
   "execution_count": 4,
   "outputs": [
    {
     "data": {
      "text/plain": "RangeIndex(start=0, stop=3288, step=1)"
     },
     "execution_count": 4,
     "metadata": {},
     "output_type": "execute_result"
    }
   ]
  },
  {
   "cell_type": "code",
   "source": [
    "#df_merged.isna().value_counts()"
   ],
   "metadata": {
    "id": "CENK5cp_FJKJ"
   },
   "execution_count": 5,
   "outputs": []
  },
  {
   "cell_type": "code",
   "source": [
    "#df_merged['salary'].value_counts(dropna=False, normalize=True)"
   ],
   "metadata": {
    "id": "aiNGTnsCH2KM"
   },
   "execution_count": 6,
   "outputs": []
  },
  {
   "cell_type": "code",
   "source": [
    "df_merged.dropna(inplace=True) "
   ],
   "metadata": {
    "id": "0g8tUGASIPjb"
   },
   "execution_count": 7,
   "outputs": []
  },
  {
   "cell_type": "code",
   "source": [
    "#df_merged['salary'].value_counts(dropna=False, normalize=True)"
   ],
   "metadata": {
    "id": "WjcbW0-TJ-yq"
   },
   "execution_count": 8,
   "outputs": []
  },
  {
   "cell_type": "code",
   "metadata": {
    "id": "UJaM0yWkdbYA"
   },
   "source": [
    "df_merged['title'] = df_merged['title'].str.lower()\n",
    "df_merged['salary'] = df_merged['salary'].str.lower()\n",
    "df_merged['location'] = df_merged['location'].str.lower()\n",
    "df_merged['description'] = df_merged['description'].str.lower()\n",
    "df_merged['company'] = df_merged['company'].str.lower()"
   ],
   "execution_count": 9,
   "outputs": []
  },
  {
   "cell_type": "code",
   "execution_count": 10,
   "outputs": [
    {
     "data": {
      "text/plain": "         Country Alpha-2 code Alpha-3 code  Numeric\n0    Afghanistan           AF          AFG        4\n1  Åland Islands           AX          ALA      248\n2        Albania           AL          ALB        8",
      "text/html": "<div>\n<style scoped>\n    .dataframe tbody tr th:only-of-type {\n        vertical-align: middle;\n    }\n\n    .dataframe tbody tr th {\n        vertical-align: top;\n    }\n\n    .dataframe thead th {\n        text-align: right;\n    }\n</style>\n<table border=\"1\" class=\"dataframe\">\n  <thead>\n    <tr style=\"text-align: right;\">\n      <th></th>\n      <th>Country</th>\n      <th>Alpha-2 code</th>\n      <th>Alpha-3 code</th>\n      <th>Numeric</th>\n    </tr>\n  </thead>\n  <tbody>\n    <tr>\n      <th>0</th>\n      <td>Afghanistan</td>\n      <td>AF</td>\n      <td>AFG</td>\n      <td>4</td>\n    </tr>\n    <tr>\n      <th>1</th>\n      <td>Åland Islands</td>\n      <td>AX</td>\n      <td>ALA</td>\n      <td>248</td>\n    </tr>\n    <tr>\n      <th>2</th>\n      <td>Albania</td>\n      <td>AL</td>\n      <td>ALB</td>\n      <td>8</td>\n    </tr>\n  </tbody>\n</table>\n</div>"
     },
     "execution_count": 10,
     "metadata": {},
     "output_type": "execute_result"
    }
   ],
   "source": [
    "df_countries.head(3)"
   ],
   "metadata": {
    "collapsed": false,
    "pycharm": {
     "name": "#%%\n"
    }
   }
  },
  {
   "cell_type": "code",
   "source": [
    "state_short_name_list = df_state_short_names['short_name'].str.lower()\n",
    "\n",
    "state_long_name_list = df_state_short_names['state_name'].str.lower()\n",
    "\n",
    "country_short_name_list = df_countries['Alpha-2 code'].str.lower()\n",
    "\n",
    "country_long_name_list = df_countries['Country'].str.lower()"
   ],
   "metadata": {
    "id": "POzTVuAEIizQ"
   },
   "execution_count": 11,
   "outputs": []
  },
  {
   "cell_type": "code",
   "source": [
    "df_merged.head()"
   ],
   "metadata": {
    "colab": {
     "base_uri": "https://localhost:8080/",
     "height": 206
    },
    "id": "jTtf8xHrIyIe",
    "outputId": "b69170c9-e3b2-414a-c3e5-2eeb204c8071"
   },
   "execution_count": 12,
   "outputs": [
    {
     "data": {
      "text/plain": "                             company  \\\n0                       aci federal™   \n2                  forward air, inc.   \n3  permanent general assurance corp.   \n4                    nova collective   \n6                      quality built   \n\n                                         description  \\\n0  5+ years data science analyst experience. crea...   \n2  present information using data visualization t...   \n3  as an associate data scientist, you will be in...   \n4  working with raw survey data to produce clean ...   \n6  support the design of end-to-end data visualiz...   \n\n                      location                     salary  \\\n0             falls church, va             $39.38 an hour   \n2  forest park, ga +1 location  $85,000 - $120,000 a year   \n3                nashville, tn             $76,440 a year   \n4                  chicago, il          $30 - $35 an hour   \n6      denver, co +4 locations   $65,000 - $80,000 a year   \n\n                                title  \n0                data science analyst  \n2                      data scientist  \n3            associate data scientist  \n4                        data analyst  \n6  reporting and data science analyst  ",
      "text/html": "<div>\n<style scoped>\n    .dataframe tbody tr th:only-of-type {\n        vertical-align: middle;\n    }\n\n    .dataframe tbody tr th {\n        vertical-align: top;\n    }\n\n    .dataframe thead th {\n        text-align: right;\n    }\n</style>\n<table border=\"1\" class=\"dataframe\">\n  <thead>\n    <tr style=\"text-align: right;\">\n      <th></th>\n      <th>company</th>\n      <th>description</th>\n      <th>location</th>\n      <th>salary</th>\n      <th>title</th>\n    </tr>\n  </thead>\n  <tbody>\n    <tr>\n      <th>0</th>\n      <td>aci federal™</td>\n      <td>5+ years data science analyst experience. crea...</td>\n      <td>falls church, va</td>\n      <td>$39.38 an hour</td>\n      <td>data science analyst</td>\n    </tr>\n    <tr>\n      <th>2</th>\n      <td>forward air, inc.</td>\n      <td>present information using data visualization t...</td>\n      <td>forest park, ga +1 location</td>\n      <td>$85,000 - $120,000 a year</td>\n      <td>data scientist</td>\n    </tr>\n    <tr>\n      <th>3</th>\n      <td>permanent general assurance corp.</td>\n      <td>as an associate data scientist, you will be in...</td>\n      <td>nashville, tn</td>\n      <td>$76,440 a year</td>\n      <td>associate data scientist</td>\n    </tr>\n    <tr>\n      <th>4</th>\n      <td>nova collective</td>\n      <td>working with raw survey data to produce clean ...</td>\n      <td>chicago, il</td>\n      <td>$30 - $35 an hour</td>\n      <td>data analyst</td>\n    </tr>\n    <tr>\n      <th>6</th>\n      <td>quality built</td>\n      <td>support the design of end-to-end data visualiz...</td>\n      <td>denver, co +4 locations</td>\n      <td>$65,000 - $80,000 a year</td>\n      <td>reporting and data science analyst</td>\n    </tr>\n  </tbody>\n</table>\n</div>"
     },
     "execution_count": 12,
     "metadata": {},
     "output_type": "execute_result"
    }
   ]
  },
  {
   "cell_type": "markdown",
   "source": [
    "# Salary Column"
   ],
   "metadata": {
    "id": "MmCN9DmkLKDV"
   }
  },
  {
   "cell_type": "markdown",
   "metadata": {
    "id": "aCWYnfg-cw1h"
   },
   "source": [
    "## 1_Cleaning data"
   ]
  },
  {
   "cell_type": "code",
   "metadata": {
    "id": "PSjm4iWqW72M"
   },
   "source": [
    "df_merged['salary'] = df_merged['salary'].str.replace(',', '')"
   ],
   "execution_count": 13,
   "outputs": []
  },
  {
   "cell_type": "markdown",
   "metadata": {
    "id": "zkCOGguQG7NX"
   },
   "source": [
    "### REGEX reset, Salary Column"
   ]
  },
  {
   "cell_type": "markdown",
   "metadata": {
    "id": "kZjofW85Xj6A"
   },
   "source": [
    "### Use regex, regular expressions"
   ]
  },
  {
   "cell_type": "code",
   "metadata": {
    "id": "N4i2FPQnc6uS"
   },
   "source": [
    "regex_results_1 = df_merged['salary'].str.extract(r'(?P<sal_1>\\$\\d\\w+)', expand=True)\n",
    "\n",
    "regex_results_2 = df_merged['salary'].str.extract(r'(?P<sal_1>\\$\\d\\w+\\W-\\s\\$\\d\\w+\\s)', expand=True)"
   ],
   "execution_count": 14,
   "outputs": []
  },
  {
   "cell_type": "markdown",
   "metadata": {
    "id": "_Dj-4dIKT8M0"
   },
   "source": [
    "### Remove \"$\"-sign"
   ]
  },
  {
   "cell_type": "code",
   "metadata": {
    "id": "rFhcPBEgEypE"
   },
   "source": [
    "# single number salary\n",
    "regex_results_1['sal_1'] = regex_results_1['sal_1'].str.replace(\"$\",\"\").str.lstrip()\n",
    "# range of min-max salary\n",
    "regex_results_2['sal_1'] = regex_results_2['sal_1'].str.replace(\"$\",\"\").str.lstrip()"
   ],
   "execution_count": 15,
   "outputs": [
    {
     "name": "stderr",
     "output_type": "stream",
     "text": [
      "C:\\Users\\win10\\AppData\\Local\\Temp\\ipykernel_22872\\4217356027.py:2: FutureWarning: The default value of regex will change from True to False in a future version. In addition, single character regular expressions will *not* be treated as literal strings when regex=True.\n",
      "  regex_results_1['sal_1'] = regex_results_1['sal_1'].str.replace(\"$\",\"\").str.lstrip()\n",
      "C:\\Users\\win10\\AppData\\Local\\Temp\\ipykernel_22872\\4217356027.py:4: FutureWarning: The default value of regex will change from True to False in a future version. In addition, single character regular expressions will *not* be treated as literal strings when regex=True.\n",
      "  regex_results_2['sal_1'] = regex_results_2['sal_1'].str.replace(\"$\",\"\").str.lstrip()\n"
     ]
    }
   ]
  },
  {
   "cell_type": "markdown",
   "metadata": {
    "id": "PrudNqOsUEHW"
   },
   "source": [
    "### Split using separator \"-\""
   ]
  },
  {
   "cell_type": "code",
   "metadata": {
    "id": "vQWQ26hfUAKC"
   },
   "source": [
    "regex_results_3 = regex_results_2['sal_1'].str.split(\"-\", n = 1, expand = True)"
   ],
   "execution_count": 16,
   "outputs": []
  },
  {
   "cell_type": "markdown",
   "metadata": {
    "id": "z822kkulULbS"
   },
   "source": [
    "Remove \"$\"-sign"
   ]
  },
  {
   "cell_type": "code",
   "metadata": {
    "id": "HE68kf0jUN7s"
   },
   "source": [
    "regex_results_3['sal_min'] = regex_results_3[0].str.replace(\"$\",\"\").str.lstrip()\n",
    "regex_results_3['sal_max'] = regex_results_3[1].str.replace(\"$\",\"\").str.lstrip()"
   ],
   "execution_count": 17,
   "outputs": [
    {
     "name": "stderr",
     "output_type": "stream",
     "text": [
      "C:\\Users\\win10\\AppData\\Local\\Temp\\ipykernel_22872\\2240052984.py:1: FutureWarning: The default value of regex will change from True to False in a future version. In addition, single character regular expressions will *not* be treated as literal strings when regex=True.\n",
      "  regex_results_3['sal_min'] = regex_results_3[0].str.replace(\"$\",\"\").str.lstrip()\n",
      "C:\\Users\\win10\\AppData\\Local\\Temp\\ipykernel_22872\\2240052984.py:2: FutureWarning: The default value of regex will change from True to False in a future version. In addition, single character regular expressions will *not* be treated as literal strings when regex=True.\n",
      "  regex_results_3['sal_max'] = regex_results_3[1].str.replace(\"$\",\"\").str.lstrip()\n"
     ]
    }
   ]
  },
  {
   "cell_type": "markdown",
   "metadata": {
    "id": "UvOUL8eNT0J3"
   },
   "source": [
    "Add back split min_max values to source df"
   ]
  },
  {
   "cell_type": "code",
   "metadata": {
    "id": "3Xwzo68BTdoS"
   },
   "source": [
    "regex_results_2['sal_min'] = regex_results_3['sal_min']\n",
    "regex_results_2['sal_max'] = regex_results_3['sal_max']"
   ],
   "execution_count": 18,
   "outputs": []
  },
  {
   "cell_type": "markdown",
   "metadata": {
    "id": "Ykvk_YYRTu21"
   },
   "source": [
    "### Drop column containing redundant information"
   ]
  },
  {
   "cell_type": "code",
   "metadata": {
    "id": "w3dPr0_PSAJV"
   },
   "source": [
    "regex_results_2.drop('sal_1', axis=1, inplace=True)"
   ],
   "execution_count": 19,
   "outputs": []
  },
  {
   "cell_type": "markdown",
   "metadata": {
    "id": "vA9kaHbxTna-"
   },
   "source": [
    "### Replace NaN with 0 to enable error-free aritmetic operations"
   ]
  },
  {
   "cell_type": "code",
   "metadata": {
    "id": "TmGCDbxbRS-8"
   },
   "source": [
    "regex_results_2.fillna(0, inplace=True)"
   ],
   "execution_count": 20,
   "outputs": []
  },
  {
   "cell_type": "code",
   "metadata": {
    "id": "ySr63zYbRqmQ"
   },
   "source": [
    "regex_results_2['sal_min'] = regex_results_2['sal_min'].astype(int)\n",
    "regex_results_2['sal_max'] = regex_results_2['sal_max'].astype(int)"
   ],
   "execution_count": 21,
   "outputs": []
  },
  {
   "cell_type": "markdown",
   "metadata": {
    "id": "mD055Rq7Vsch"
   },
   "source": [
    "### Consolidate Salary data\n",
    "Consolidate Salary data. \n",
    "1.   if only 1 number available use it as min and max. \n",
    "2.   if range available then use separate min and max.\n",
    "3.   convert data types to appropriate ones\n",
    "\n",
    "\n",
    "\n",
    "\n"
   ]
  },
  {
   "cell_type": "code",
   "metadata": {
    "id": "gRIgruLFLkSD"
   },
   "source": [
    "# convert data types\n",
    "regex_results_1['sal_1'] = regex_results_1['sal_1'].astype(float)\n",
    "# fill na with 0\n",
    "regex_results_1.fillna(0, inplace=True)\n",
    "# convert data types\n",
    "regex_results_1['sal_1'] = regex_results_1['sal_1'].astype(int)\n",
    "# consolidate data\n",
    "regex_results_2['sal_1'] = regex_results_1['sal_1']"
   ],
   "execution_count": 22,
   "outputs": []
  },
  {
   "cell_type": "code",
   "metadata": {
    "id": "HU0TutxSNb-0"
   },
   "source": [
    "# if only 1 number available use it as min and max. \n",
    "regex_results_2.loc[regex_results_2['sal_min'] ==0,'sal_min'] = regex_results_2['sal_1']\n",
    "regex_results_2.loc[regex_results_2['sal_max'] ==0,'sal_max'] = regex_results_2['sal_1']\n",
    "regex_results_2.drop('sal_1', axis=1, inplace=True)"
   ],
   "execution_count": 23,
   "outputs": []
  },
  {
   "cell_type": "code",
   "metadata": {
    "id": "LAo0PieMOfPB"
   },
   "source": [
    "# if only 1 number available use it as min and max. \n",
    "df_merged['sal_max'] = regex_results_2['sal_max']\n",
    "df_merged['sal_min'] = regex_results_2['sal_min']"
   ],
   "execution_count": 24,
   "outputs": []
  },
  {
   "cell_type": "markdown",
   "metadata": {
    "id": "X3NSXonDUTOn"
   },
   "source": [
    "### Update salary monthly multiplier"
   ]
  },
  {
   "cell_type": "code",
   "metadata": {
    "id": "KPbspL_lPmSP"
   },
   "source": [
    "%%capture\n",
    "regex_results_4 = pd.DataFrame( df_merged['salary'].str.contains('month') )\n",
    "#regex_results_4\n",
    "salary_is_monthly_list = regex_results_4.index[regex_results_4['salary'] == True].tolist()\n",
    "#print(salary_is_monthly_list)\n",
    "#print(len(salary_is_monthly_list))\n",
    "#df_merged.iloc[salary_is_monthly_list,]\n",
    "df_merged['monthly_multiplier'] = 0\n",
    "df_merged['monthly_multiplier'].loc[salary_is_monthly_list,] = 12\n",
    "#df_merged['monthly_multiplier'].value_counts()"
   ],
   "execution_count": 25,
   "outputs": []
  },
  {
   "cell_type": "markdown",
   "metadata": {
    "id": "GJbOxSjEU5b0"
   },
   "source": [
    "### Update salary hourly multiplier"
   ]
  },
  {
   "cell_type": "code",
   "metadata": {
    "id": "TdZylKIgUezf"
   },
   "source": [
    "%%capture\n",
    "regex_results_5 = pd.DataFrame( df_merged['salary'].str.contains('hour') )\n",
    "#regex_results_5\n",
    "salary_is_hourly_list = regex_results_5.index[regex_results_5['salary'] == True].tolist()\n",
    "#print(salary_is_hourly_list)\n",
    "#print(len(salary_is_hourly_list))\n",
    "#df_merged.iloc[salary_is_hourly_list,]\n",
    "df_merged['hourly_multiplier'] = 0\n",
    "df_merged['hourly_multiplier'].loc[salary_is_hourly_list,] = 2000\n",
    "#df_merged['hourly_multiplier'].value_counts()"
   ],
   "execution_count": 26,
   "outputs": []
  },
  {
   "cell_type": "markdown",
   "metadata": {
    "id": "kaKtfqcRYnWe"
   },
   "source": [
    "### Update salary yearly multiplier"
   ]
  },
  {
   "cell_type": "code",
   "metadata": {
    "id": "iDZBtiJ9Ymp5"
   },
   "source": [
    "%%capture\n",
    "regex_results_6 = pd.DataFrame( df_merged['salary'].str.contains('year') )\n",
    "#regex_results_6\n",
    "salary_is_yearly_list = regex_results_6.index[regex_results_6['salary'] == True].tolist()\n",
    "#print(salary_is_yearly_list)\n",
    "#print(len(salary_is_yearly_list))\n",
    "#df_merged.iloc[salary_is_yearly_list,]\n",
    "df_merged['yearly_multiplier'] = 0\n",
    "df_merged['yearly_multiplier'].loc[salary_is_yearly_list,] = 1\n",
    "#df_merged['yearly_multiplier'].value_counts()"
   ],
   "execution_count": 27,
   "outputs": []
  },
  {
   "cell_type": "code",
   "metadata": {
    "id": "i4maTTUUZhJT"
   },
   "source": [
    "df_merged['sal_global_multiplier'] = df_merged['hourly_multiplier'] + df_merged['monthly_multiplier'] + df_merged['yearly_multiplier']"
   ],
   "execution_count": 28,
   "outputs": []
  },
  {
   "cell_type": "code",
   "metadata": {
    "id": "4zk0y_lhZ0kV"
   },
   "source": [
    "df_merged['sal_max_yearly'] = df_merged['sal_max'] * df_merged['sal_global_multiplier']\n",
    "df_merged['sal_min_yearly'] = df_merged['sal_min'] * df_merged['sal_global_multiplier']"
   ],
   "execution_count": 29,
   "outputs": []
  },
  {
   "cell_type": "code",
   "source": [
    "#df_merged['sal_max_yearly'].value_counts(dropna=False, normalize=True)"
   ],
   "metadata": {
    "id": "ukKtg84qLmHH"
   },
   "execution_count": 30,
   "outputs": []
  },
  {
   "cell_type": "code",
   "source": [
    "#df_merged['sal_min_yearly'].value_counts(dropna=False, normalize=True)"
   ],
   "metadata": {
    "id": "CwnVfkhwLzYo"
   },
   "execution_count": 31,
   "outputs": []
  },
  {
   "cell_type": "code",
   "source": [
    "df_merged.columns"
   ],
   "metadata": {
    "colab": {
     "base_uri": "https://localhost:8080/"
    },
    "id": "Z4WeAZUeLvW9",
    "outputId": "9219be38-8e2d-409b-b0ba-a057a081f24b"
   },
   "execution_count": 32,
   "outputs": [
    {
     "data": {
      "text/plain": "Index(['company', 'description', 'location', 'salary', 'title', 'sal_max',\n       'sal_min', 'monthly_multiplier', 'hourly_multiplier',\n       'yearly_multiplier', 'sal_global_multiplier', 'sal_max_yearly',\n       'sal_min_yearly'],\n      dtype='object')"
     },
     "execution_count": 32,
     "metadata": {},
     "output_type": "execute_result"
    }
   ]
  },
  {
   "cell_type": "code",
   "source": [
    "df_merged = df_merged[['title','company','location', 'description','sal_min_yearly','sal_max_yearly']]\n",
    "#df_merged.head()"
   ],
   "metadata": {
    "id": "11a3STWIL9gc"
   },
   "execution_count": 33,
   "outputs": []
  },
  {
   "cell_type": "markdown",
   "metadata": {
    "id": "SxarXeZqabEs"
   },
   "source": [
    "# Location Column"
   ]
  },
  {
   "cell_type": "markdown",
   "metadata": {
    "id": "Crqtdc8VbJAU"
   },
   "source": [
    "### Reset location"
   ]
  },
  {
   "cell_type": "code",
   "metadata": {
    "id": "UHp9LkalpClM"
   },
   "source": [
    "df_location = df_merged['location']"
   ],
   "execution_count": 34,
   "outputs": []
  },
  {
   "cell_type": "code",
   "metadata": {
    "id": "9TObVGKHo0Rp"
   },
   "source": [
    "%%capture\n",
    "remove_this = re.compile(r'\\w+,[[:space:]]\\w+')\n",
    "regex_results_new = df_location.str.replace(remove_this, \"\")"
   ],
   "execution_count": 35,
   "outputs": []
  },
  {
   "cell_type": "markdown",
   "metadata": {
    "id": "jBYgsV9EsKXT"
   },
   "source": [
    "RESET split_location"
   ]
  },
  {
   "cell_type": "code",
   "metadata": {
    "id": "Ed7azKGfpR1Q"
   },
   "source": [
    "%%capture\n",
    "split_location = regex_results_new.str.split(\",\", n = 2, expand = True)\n",
    "split_location.columns = [\"city\",\"state_short\"]\n",
    "split_location['city'] = split_location['city'].str.strip().str.lower()\n",
    "split_location['state_short'] = split_location['state_short'].str.strip().str.lower()\n",
    "# fillna\n",
    "split_location.fillna(axis=0, inplace=True,value=\"unknown\", method=None)\n",
    "split_location.reset_index(inplace=True, drop=True)"
   ],
   "execution_count": 36,
   "outputs": []
  },
  {
   "cell_type": "code",
   "source": [
    "for index_1 in range(0, len(split_location)):\n",
    "  split_location.loc[index_1,'len_state_short'] = len(split_location['state_short'][index_1])"
   ],
   "metadata": {
    "id": "yZ-hnBiLov2M"
   },
   "execution_count": 37,
   "outputs": []
  },
  {
   "cell_type": "markdown",
   "metadata": {
    "id": "6IuWuVsh8xk8"
   },
   "source": [
    "Extract state short name"
   ]
  },
  {
   "cell_type": "code",
   "metadata": {
    "id": "VetoQJrjxaCw"
   },
   "source": [
    "# %%capture\n",
    "split_location['len_state_short'] = 0\n",
    "split_location['state_short_clean'] = \"xx\"\n",
    "\n",
    "for index_1 in range(0, len(split_location)):\n",
    "  if (split_location['len_state_short'][index_1] < 3):\n",
    "    split_location.loc[index_1,'state_short_clean']  = split_location.loc[index_1,'state_short'][0:2]\n",
    "\n",
    "  #if (split_location.loc[index_1,'state_short'] == \"unknown\"):\n",
    "    #split_location.loc[index_1,'state_short_clean'] = \"xx\"\n",
    "  #if split_location['state_short']\n",
    "  #print(index_1,\"=index \",\",,item=\", split_location['state_short'][index_1])"
   ],
   "execution_count": 38,
   "outputs": []
  },
  {
   "cell_type": "code",
   "source": [
    "len(split_location)"
   ],
   "metadata": {
    "colab": {
     "base_uri": "https://localhost:8080/"
    },
    "id": "xC247t6CoZpG",
    "outputId": "894b4c5d-e359-4141-967b-0d109cfaca19"
   },
   "execution_count": 39,
   "outputs": [
    {
     "data": {
      "text/plain": "898"
     },
     "execution_count": 39,
     "metadata": {},
     "output_type": "execute_result"
    }
   ]
  },
  {
   "cell_type": "code",
   "source": [
    "len(df_merged)"
   ],
   "metadata": {
    "colab": {
     "base_uri": "https://localhost:8080/"
    },
    "id": "0wSdF3rNoc2d",
    "outputId": "9e422482-c597-400e-cdde-8f95f6c344e1"
   },
   "execution_count": 40,
   "outputs": [
    {
     "data": {
      "text/plain": "898"
     },
     "execution_count": 40,
     "metadata": {},
     "output_type": "execute_result"
    }
   ]
  },
  {
   "cell_type": "code",
   "source": [
    "df_merged.reset_index(inplace=True, drop=True)"
   ],
   "metadata": {
    "id": "rM8q843mqt4j"
   },
   "execution_count": 41,
   "outputs": []
  },
  {
   "cell_type": "code",
   "source": [
    "df_merged['state_short_clean'] = split_location['state_short_clean']\n",
    "df_merged['city_clean'] = split_location['city']\n",
    "df_merged = df_merged.drop('location', axis=1)\n",
    "df_merged.reset_index(inplace=True, drop=True)\n",
    "df_merged"
   ],
   "metadata": {
    "colab": {
     "base_uri": "https://localhost:8080/",
     "height": 424
    },
    "id": "gPHEshu-nF_a",
    "outputId": "7722bef5-c3eb-4879-acbc-ce1d5d224f1f"
   },
   "execution_count": 42,
   "outputs": [
    {
     "data": {
      "text/plain": "                                             title  \\\n0                             data science analyst   \n1                                   data scientist   \n2                         associate data scientist   \n3                                     data analyst   \n4               reporting and data science analyst   \n..                                             ...   \n893  senior statistical programmer (sr. associate)   \n894      healthcare analyst/statistical programmer   \n895                research assistant/data analyst   \n896  senior statistical programmer (sr. associate)   \n897      healthcare analyst/statistical programmer   \n\n                               company  \\\n0                         aci federal™   \n1                    forward air, inc.   \n2    permanent general assurance corp.   \n3                      nova collective   \n4                        quality built   \n..                                 ...   \n893                             pfizer   \n894     institute for accountable care   \n895      institute of neuro innovation   \n896                             pfizer   \n897     institute for accountable care   \n\n                                           description  sal_min_yearly  \\\n0    5+ years data science analyst experience. crea...           78000   \n1    present information using data visualization t...           85000   \n2    as an associate data scientist, you will be in...           76440   \n3    working with raw survey data to produce clean ...           60000   \n4    support the design of end-to-end data visualiz...           65000   \n..                                                 ...             ...   \n893  working knowledge of clinical data and relevan...           70700   \n894  experience working with health care claims dat...           90000   \n895  education: undergraduate (minimum), graduate (...           52000   \n896  working knowledge of clinical data and relevan...           70700   \n897  experience working with health care claims dat...           90000   \n\n     sal_max_yearly state_short_clean    city_clean  \n0             78000                va  falls church  \n1            120000                ga   forest park  \n2             76440                tn     nashville  \n3             70000                il       chicago  \n4             80000                co        denver  \n..              ...               ...           ...  \n893          117900                pa  collegeville  \n894          130000                un        remote  \n895          100000                ca  santa monica  \n896          117900                pa  collegeville  \n897          130000                un        remote  \n\n[898 rows x 7 columns]",
      "text/html": "<div>\n<style scoped>\n    .dataframe tbody tr th:only-of-type {\n        vertical-align: middle;\n    }\n\n    .dataframe tbody tr th {\n        vertical-align: top;\n    }\n\n    .dataframe thead th {\n        text-align: right;\n    }\n</style>\n<table border=\"1\" class=\"dataframe\">\n  <thead>\n    <tr style=\"text-align: right;\">\n      <th></th>\n      <th>title</th>\n      <th>company</th>\n      <th>description</th>\n      <th>sal_min_yearly</th>\n      <th>sal_max_yearly</th>\n      <th>state_short_clean</th>\n      <th>city_clean</th>\n    </tr>\n  </thead>\n  <tbody>\n    <tr>\n      <th>0</th>\n      <td>data science analyst</td>\n      <td>aci federal™</td>\n      <td>5+ years data science analyst experience. crea...</td>\n      <td>78000</td>\n      <td>78000</td>\n      <td>va</td>\n      <td>falls church</td>\n    </tr>\n    <tr>\n      <th>1</th>\n      <td>data scientist</td>\n      <td>forward air, inc.</td>\n      <td>present information using data visualization t...</td>\n      <td>85000</td>\n      <td>120000</td>\n      <td>ga</td>\n      <td>forest park</td>\n    </tr>\n    <tr>\n      <th>2</th>\n      <td>associate data scientist</td>\n      <td>permanent general assurance corp.</td>\n      <td>as an associate data scientist, you will be in...</td>\n      <td>76440</td>\n      <td>76440</td>\n      <td>tn</td>\n      <td>nashville</td>\n    </tr>\n    <tr>\n      <th>3</th>\n      <td>data analyst</td>\n      <td>nova collective</td>\n      <td>working with raw survey data to produce clean ...</td>\n      <td>60000</td>\n      <td>70000</td>\n      <td>il</td>\n      <td>chicago</td>\n    </tr>\n    <tr>\n      <th>4</th>\n      <td>reporting and data science analyst</td>\n      <td>quality built</td>\n      <td>support the design of end-to-end data visualiz...</td>\n      <td>65000</td>\n      <td>80000</td>\n      <td>co</td>\n      <td>denver</td>\n    </tr>\n    <tr>\n      <th>...</th>\n      <td>...</td>\n      <td>...</td>\n      <td>...</td>\n      <td>...</td>\n      <td>...</td>\n      <td>...</td>\n      <td>...</td>\n    </tr>\n    <tr>\n      <th>893</th>\n      <td>senior statistical programmer (sr. associate)</td>\n      <td>pfizer</td>\n      <td>working knowledge of clinical data and relevan...</td>\n      <td>70700</td>\n      <td>117900</td>\n      <td>pa</td>\n      <td>collegeville</td>\n    </tr>\n    <tr>\n      <th>894</th>\n      <td>healthcare analyst/statistical programmer</td>\n      <td>institute for accountable care</td>\n      <td>experience working with health care claims dat...</td>\n      <td>90000</td>\n      <td>130000</td>\n      <td>un</td>\n      <td>remote</td>\n    </tr>\n    <tr>\n      <th>895</th>\n      <td>research assistant/data analyst</td>\n      <td>institute of neuro innovation</td>\n      <td>education: undergraduate (minimum), graduate (...</td>\n      <td>52000</td>\n      <td>100000</td>\n      <td>ca</td>\n      <td>santa monica</td>\n    </tr>\n    <tr>\n      <th>896</th>\n      <td>senior statistical programmer (sr. associate)</td>\n      <td>pfizer</td>\n      <td>working knowledge of clinical data and relevan...</td>\n      <td>70700</td>\n      <td>117900</td>\n      <td>pa</td>\n      <td>collegeville</td>\n    </tr>\n    <tr>\n      <th>897</th>\n      <td>healthcare analyst/statistical programmer</td>\n      <td>institute for accountable care</td>\n      <td>experience working with health care claims dat...</td>\n      <td>90000</td>\n      <td>130000</td>\n      <td>un</td>\n      <td>remote</td>\n    </tr>\n  </tbody>\n</table>\n<p>898 rows × 7 columns</p>\n</div>"
     },
     "execution_count": 42,
     "metadata": {},
     "output_type": "execute_result"
    }
   ]
  },
  {
   "cell_type": "code",
   "source": [
    "split_location['city'].value_counts()"
   ],
   "metadata": {
    "colab": {
     "base_uri": "https://localhost:8080/"
    },
    "id": "lTupVCVSrzFm",
    "outputId": "be6fa1bf-2f78-4cc0-bd77-d377f076441c"
   },
   "execution_count": 43,
   "outputs": [
    {
     "data": {
      "text/plain": "remote             282\ncollegeville       209\nsanta monica       209\nwashington          21\nnew york            12\n                  ... \nmaryland             1\ndecatur              1\nforest park          1\ncalifornia city      1\nfalls church         1\nName: city, Length: 112, dtype: int64"
     },
     "execution_count": 43,
     "metadata": {},
     "output_type": "execute_result"
    }
   ]
  },
  {
   "cell_type": "markdown",
   "source": [
    "## RESET df_merged"
   ],
   "metadata": {
    "id": "eNkb-6gTtVl7"
   }
  },
  {
   "cell_type": "code",
   "source": [
    "df_clean_location_salary = df_merged.copy()"
   ],
   "metadata": {
    "id": "FbTU6IQAsvds"
   },
   "execution_count": 44,
   "outputs": []
  },
  {
   "cell_type": "code",
   "source": [
    "df_merged = df_clean_location_salary"
   ],
   "metadata": {
    "id": "R5xLHk-Gvaa3"
   },
   "execution_count": 45,
   "outputs": []
  },
  {
   "cell_type": "code",
   "source": [
    "df_merged['title']"
   ],
   "metadata": {
    "colab": {
     "base_uri": "https://localhost:8080/"
    },
    "id": "VsePBZ6Zte8o",
    "outputId": "788fe16c-1e4d-4e6e-9d14-414e3d386b50"
   },
   "execution_count": 46,
   "outputs": [
    {
     "data": {
      "text/plain": "0                               data science analyst\n1                                     data scientist\n2                           associate data scientist\n3                                       data analyst\n4                 reporting and data science analyst\n                           ...                      \n893    senior statistical programmer (sr. associate)\n894        healthcare analyst/statistical programmer\n895                  research assistant/data analyst\n896    senior statistical programmer (sr. associate)\n897        healthcare analyst/statistical programmer\nName: title, Length: 898, dtype: object"
     },
     "execution_count": 46,
     "metadata": {},
     "output_type": "execute_result"
    }
   ]
  },
  {
   "cell_type": "markdown",
   "source": [
    "# Title column cleanup"
   ],
   "metadata": {
    "id": "u8D0VzSK30vM"
   }
  },
  {
   "cell_type": "markdown",
   "source": [
    "### Reformat to known categories"
   ],
   "metadata": {
    "id": "5ibq4Cq937HQ"
   }
  },
  {
   "cell_type": "code",
   "source": [
    "df_merged['has_science'] = np.where ( df_merged['title'].str.find(\"science\") > -1, 1,0 )\n",
    "df_merged['has_scientist'] = np.where ( df_merged['title'].str.find(\"scientist\") > -1, 1,0 )\n",
    "df_merged['has_analyst'] = np.where ( df_merged['title'].str.find(\"analyst\") > -1, 1,0 )\n",
    "df_merged['has_engineer'] = np.where ( df_merged['title'].str.find(\"engineer\") > -1, 1,0 )\n",
    "\n",
    "df_merged['has_senior'] = np.where ( df_merged['title'].str.find(\"senior\") > -1, 1,0 )\n",
    "df_merged['has_director'] = np.where ( df_merged['title'].str.find(\"director\") > -1, 1,0 )\n",
    "df_merged['has_analytics'] = np.where ( df_merged['title'].str.find(\"analytics\") > -1, 1,0 )\n",
    "\n",
    "df_merged['has_data_science'] = np.where ( df_merged['title'].str.find(\"data science\") > -1, 1,0 )\n",
    "df_merged['has_data_scientist'] = np.where ( df_merged['title'].str.find(\"data scientist\") > -1, 1,0 )\n",
    "df_merged['has_data_analyst'] = np.where ( df_merged['title'].str.find(\"data analyst\") > -1, 1,0 )\n",
    "df_merged['has_data_engineer'] = np.where ( df_merged['title'].str.find(\"data engineer\") > -1, 1,0 )"
   ],
   "metadata": {
    "id": "0JbQrxWHtkVQ"
   },
   "execution_count": 47,
   "outputs": []
  },
  {
   "cell_type": "code",
   "source": [
    "#1-data scientist\n",
    "#2-data analyst\n",
    "#3-data engineer\n",
    "df_merged['title_clean'] = np.select(condlist=[df_merged['title'].str.find(\"data scientist\") > -1,\n",
    "                                            df_merged['title'].str.find(\"data analyst\") > -1,\n",
    "                                            df_merged['title'].str.find(\"data engineer\") > -1,\n",
    "                                           ],\n",
    "                                  choicelist=[\"data_scientist\",\"data_analyst\",\"data_engineer\"], \n",
    "                                  default=0)"
   ],
   "metadata": {
    "id": "2MaZedXctrEY"
   },
   "execution_count": 48,
   "outputs": []
  },
  {
   "cell_type": "code",
   "source": [
    "df_merged['title_clean'].value_counts(normalize=True)"
   ],
   "metadata": {
    "colab": {
     "base_uri": "https://localhost:8080/"
    },
    "id": "QF5lbTy1uddR",
    "outputId": "5b0bc177-9cb2-4ee9-a1a1-df668071b8c9"
   },
   "execution_count": 49,
   "outputs": [
    {
     "data": {
      "text/plain": "0                 0.618040\ndata_analyst      0.275056\ndata_scientist    0.084633\ndata_engineer     0.022272\nName: title_clean, dtype: float64"
     },
     "execution_count": 49,
     "metadata": {},
     "output_type": "execute_result"
    }
   ]
  },
  {
   "cell_type": "code",
   "source": [
    "df_merged = df_merged.drop('title', axis=1)\n",
    "df_merged = df_merged.dropna()\n",
    "df_merged.reset_index(inplace=True, drop=True)\n",
    "df_merged"
   ],
   "metadata": {
    "colab": {
     "base_uri": "https://localhost:8080/",
     "height": 1000
    },
    "id": "4ADxwwSLu_D8",
    "outputId": "3f65b409-18fd-40c0-90e1-965eed81038f"
   },
   "execution_count": 50,
   "outputs": [
    {
     "data": {
      "text/plain": "                               company  \\\n0                         aci federal™   \n1                    forward air, inc.   \n2    permanent general assurance corp.   \n3                      nova collective   \n4                        quality built   \n..                                 ...   \n893                             pfizer   \n894     institute for accountable care   \n895      institute of neuro innovation   \n896                             pfizer   \n897     institute for accountable care   \n\n                                           description  sal_min_yearly  \\\n0    5+ years data science analyst experience. crea...           78000   \n1    present information using data visualization t...           85000   \n2    as an associate data scientist, you will be in...           76440   \n3    working with raw survey data to produce clean ...           60000   \n4    support the design of end-to-end data visualiz...           65000   \n..                                                 ...             ...   \n893  working knowledge of clinical data and relevan...           70700   \n894  experience working with health care claims dat...           90000   \n895  education: undergraduate (minimum), graduate (...           52000   \n896  working knowledge of clinical data and relevan...           70700   \n897  experience working with health care claims dat...           90000   \n\n     sal_max_yearly state_short_clean    city_clean  has_science  \\\n0             78000                va  falls church            1   \n1            120000                ga   forest park            0   \n2             76440                tn     nashville            0   \n3             70000                il       chicago            0   \n4             80000                co        denver            1   \n..              ...               ...           ...          ...   \n893          117900                pa  collegeville            0   \n894          130000                un        remote            0   \n895          100000                ca  santa monica            0   \n896          117900                pa  collegeville            0   \n897          130000                un        remote            0   \n\n     has_scientist  has_analyst  has_engineer  has_senior  has_director  \\\n0                0            1             0           0             0   \n1                1            0             0           0             0   \n2                1            0             0           0             0   \n3                0            1             0           0             0   \n4                0            1             0           0             0   \n..             ...          ...           ...         ...           ...   \n893              0            0             0           1             0   \n894              0            1             0           0             0   \n895              0            1             0           0             0   \n896              0            0             0           1             0   \n897              0            1             0           0             0   \n\n     has_analytics  has_data_science  has_data_scientist  has_data_analyst  \\\n0                0                 1                   0                 0   \n1                0                 0                   1                 0   \n2                0                 0                   1                 0   \n3                0                 0                   0                 1   \n4                0                 1                   0                 0   \n..             ...               ...                 ...               ...   \n893              0                 0                   0                 0   \n894              0                 0                   0                 0   \n895              0                 0                   0                 1   \n896              0                 0                   0                 0   \n897              0                 0                   0                 0   \n\n     has_data_engineer     title_clean  \n0                    0               0  \n1                    0  data_scientist  \n2                    0  data_scientist  \n3                    0    data_analyst  \n4                    0               0  \n..                 ...             ...  \n893                  0               0  \n894                  0               0  \n895                  0    data_analyst  \n896                  0               0  \n897                  0               0  \n\n[898 rows x 18 columns]",
      "text/html": "<div>\n<style scoped>\n    .dataframe tbody tr th:only-of-type {\n        vertical-align: middle;\n    }\n\n    .dataframe tbody tr th {\n        vertical-align: top;\n    }\n\n    .dataframe thead th {\n        text-align: right;\n    }\n</style>\n<table border=\"1\" class=\"dataframe\">\n  <thead>\n    <tr style=\"text-align: right;\">\n      <th></th>\n      <th>company</th>\n      <th>description</th>\n      <th>sal_min_yearly</th>\n      <th>sal_max_yearly</th>\n      <th>state_short_clean</th>\n      <th>city_clean</th>\n      <th>has_science</th>\n      <th>has_scientist</th>\n      <th>has_analyst</th>\n      <th>has_engineer</th>\n      <th>has_senior</th>\n      <th>has_director</th>\n      <th>has_analytics</th>\n      <th>has_data_science</th>\n      <th>has_data_scientist</th>\n      <th>has_data_analyst</th>\n      <th>has_data_engineer</th>\n      <th>title_clean</th>\n    </tr>\n  </thead>\n  <tbody>\n    <tr>\n      <th>0</th>\n      <td>aci federal™</td>\n      <td>5+ years data science analyst experience. crea...</td>\n      <td>78000</td>\n      <td>78000</td>\n      <td>va</td>\n      <td>falls church</td>\n      <td>1</td>\n      <td>0</td>\n      <td>1</td>\n      <td>0</td>\n      <td>0</td>\n      <td>0</td>\n      <td>0</td>\n      <td>1</td>\n      <td>0</td>\n      <td>0</td>\n      <td>0</td>\n      <td>0</td>\n    </tr>\n    <tr>\n      <th>1</th>\n      <td>forward air, inc.</td>\n      <td>present information using data visualization t...</td>\n      <td>85000</td>\n      <td>120000</td>\n      <td>ga</td>\n      <td>forest park</td>\n      <td>0</td>\n      <td>1</td>\n      <td>0</td>\n      <td>0</td>\n      <td>0</td>\n      <td>0</td>\n      <td>0</td>\n      <td>0</td>\n      <td>1</td>\n      <td>0</td>\n      <td>0</td>\n      <td>data_scientist</td>\n    </tr>\n    <tr>\n      <th>2</th>\n      <td>permanent general assurance corp.</td>\n      <td>as an associate data scientist, you will be in...</td>\n      <td>76440</td>\n      <td>76440</td>\n      <td>tn</td>\n      <td>nashville</td>\n      <td>0</td>\n      <td>1</td>\n      <td>0</td>\n      <td>0</td>\n      <td>0</td>\n      <td>0</td>\n      <td>0</td>\n      <td>0</td>\n      <td>1</td>\n      <td>0</td>\n      <td>0</td>\n      <td>data_scientist</td>\n    </tr>\n    <tr>\n      <th>3</th>\n      <td>nova collective</td>\n      <td>working with raw survey data to produce clean ...</td>\n      <td>60000</td>\n      <td>70000</td>\n      <td>il</td>\n      <td>chicago</td>\n      <td>0</td>\n      <td>0</td>\n      <td>1</td>\n      <td>0</td>\n      <td>0</td>\n      <td>0</td>\n      <td>0</td>\n      <td>0</td>\n      <td>0</td>\n      <td>1</td>\n      <td>0</td>\n      <td>data_analyst</td>\n    </tr>\n    <tr>\n      <th>4</th>\n      <td>quality built</td>\n      <td>support the design of end-to-end data visualiz...</td>\n      <td>65000</td>\n      <td>80000</td>\n      <td>co</td>\n      <td>denver</td>\n      <td>1</td>\n      <td>0</td>\n      <td>1</td>\n      <td>0</td>\n      <td>0</td>\n      <td>0</td>\n      <td>0</td>\n      <td>1</td>\n      <td>0</td>\n      <td>0</td>\n      <td>0</td>\n      <td>0</td>\n    </tr>\n    <tr>\n      <th>...</th>\n      <td>...</td>\n      <td>...</td>\n      <td>...</td>\n      <td>...</td>\n      <td>...</td>\n      <td>...</td>\n      <td>...</td>\n      <td>...</td>\n      <td>...</td>\n      <td>...</td>\n      <td>...</td>\n      <td>...</td>\n      <td>...</td>\n      <td>...</td>\n      <td>...</td>\n      <td>...</td>\n      <td>...</td>\n      <td>...</td>\n    </tr>\n    <tr>\n      <th>893</th>\n      <td>pfizer</td>\n      <td>working knowledge of clinical data and relevan...</td>\n      <td>70700</td>\n      <td>117900</td>\n      <td>pa</td>\n      <td>collegeville</td>\n      <td>0</td>\n      <td>0</td>\n      <td>0</td>\n      <td>0</td>\n      <td>1</td>\n      <td>0</td>\n      <td>0</td>\n      <td>0</td>\n      <td>0</td>\n      <td>0</td>\n      <td>0</td>\n      <td>0</td>\n    </tr>\n    <tr>\n      <th>894</th>\n      <td>institute for accountable care</td>\n      <td>experience working with health care claims dat...</td>\n      <td>90000</td>\n      <td>130000</td>\n      <td>un</td>\n      <td>remote</td>\n      <td>0</td>\n      <td>0</td>\n      <td>1</td>\n      <td>0</td>\n      <td>0</td>\n      <td>0</td>\n      <td>0</td>\n      <td>0</td>\n      <td>0</td>\n      <td>0</td>\n      <td>0</td>\n      <td>0</td>\n    </tr>\n    <tr>\n      <th>895</th>\n      <td>institute of neuro innovation</td>\n      <td>education: undergraduate (minimum), graduate (...</td>\n      <td>52000</td>\n      <td>100000</td>\n      <td>ca</td>\n      <td>santa monica</td>\n      <td>0</td>\n      <td>0</td>\n      <td>1</td>\n      <td>0</td>\n      <td>0</td>\n      <td>0</td>\n      <td>0</td>\n      <td>0</td>\n      <td>0</td>\n      <td>1</td>\n      <td>0</td>\n      <td>data_analyst</td>\n    </tr>\n    <tr>\n      <th>896</th>\n      <td>pfizer</td>\n      <td>working knowledge of clinical data and relevan...</td>\n      <td>70700</td>\n      <td>117900</td>\n      <td>pa</td>\n      <td>collegeville</td>\n      <td>0</td>\n      <td>0</td>\n      <td>0</td>\n      <td>0</td>\n      <td>1</td>\n      <td>0</td>\n      <td>0</td>\n      <td>0</td>\n      <td>0</td>\n      <td>0</td>\n      <td>0</td>\n      <td>0</td>\n    </tr>\n    <tr>\n      <th>897</th>\n      <td>institute for accountable care</td>\n      <td>experience working with health care claims dat...</td>\n      <td>90000</td>\n      <td>130000</td>\n      <td>un</td>\n      <td>remote</td>\n      <td>0</td>\n      <td>0</td>\n      <td>1</td>\n      <td>0</td>\n      <td>0</td>\n      <td>0</td>\n      <td>0</td>\n      <td>0</td>\n      <td>0</td>\n      <td>0</td>\n      <td>0</td>\n      <td>0</td>\n    </tr>\n  </tbody>\n</table>\n<p>898 rows × 18 columns</p>\n</div>"
     },
     "execution_count": 50,
     "metadata": {},
     "output_type": "execute_result"
    }
   ]
  },
  {
   "cell_type": "code",
   "source": [
    "df_merged_clean_all = df_merged[df_merged.title_clean != \"0\"]"
   ],
   "metadata": {
    "id": "oiESKjvYwKm6"
   },
   "execution_count": 51,
   "outputs": []
  },
  {
   "cell_type": "code",
   "source": [
    "df_merged_clean_all['title_clean'].value_counts()"
   ],
   "metadata": {
    "colab": {
     "base_uri": "https://localhost:8080/"
    },
    "id": "dzek8-ZCwaal",
    "outputId": "8320fd09-d697-474d-bff1-211ed1ca3a76"
   },
   "execution_count": 52,
   "outputs": [
    {
     "data": {
      "text/plain": "data_analyst      247\ndata_scientist     76\ndata_engineer      20\nName: title_clean, dtype: int64"
     },
     "execution_count": 52,
     "metadata": {},
     "output_type": "execute_result"
    }
   ]
  },
  {
   "cell_type": "code",
   "source": [
    "df_merged_clean_all.info()"
   ],
   "metadata": {
    "colab": {
     "base_uri": "https://localhost:8080/"
    },
    "id": "otI1yq6JwRb0",
    "outputId": "7d59d2d5-83fb-4246-9943-1346b0ae513e"
   },
   "execution_count": 53,
   "outputs": [
    {
     "name": "stdout",
     "output_type": "stream",
     "text": [
      "<class 'pandas.core.frame.DataFrame'>\n",
      "Int64Index: 343 entries, 1 to 895\n",
      "Data columns (total 18 columns):\n",
      " #   Column              Non-Null Count  Dtype \n",
      "---  ------              --------------  ----- \n",
      " 0   company             343 non-null    object\n",
      " 1   description         343 non-null    object\n",
      " 2   sal_min_yearly      343 non-null    int64 \n",
      " 3   sal_max_yearly      343 non-null    int64 \n",
      " 4   state_short_clean   343 non-null    object\n",
      " 5   city_clean          343 non-null    object\n",
      " 6   has_science         343 non-null    int32 \n",
      " 7   has_scientist       343 non-null    int32 \n",
      " 8   has_analyst         343 non-null    int32 \n",
      " 9   has_engineer        343 non-null    int32 \n",
      " 10  has_senior          343 non-null    int32 \n",
      " 11  has_director        343 non-null    int32 \n",
      " 12  has_analytics       343 non-null    int32 \n",
      " 13  has_data_science    343 non-null    int32 \n",
      " 14  has_data_scientist  343 non-null    int32 \n",
      " 15  has_data_analyst    343 non-null    int32 \n",
      " 16  has_data_engineer   343 non-null    int32 \n",
      " 17  title_clean         343 non-null    object\n",
      "dtypes: int32(11), int64(2), object(5)\n",
      "memory usage: 36.2+ KB\n"
     ]
    }
   ]
  },
  {
   "cell_type": "code",
   "source": [
    "df_merged_clean_all.columns"
   ],
   "metadata": {
    "colab": {
     "base_uri": "https://localhost:8080/"
    },
    "id": "NA3viUUmxTDy",
    "outputId": "1538c62e-a87b-47a0-f121-d832ef7ff663"
   },
   "execution_count": 54,
   "outputs": [
    {
     "data": {
      "text/plain": "Index(['company', 'description', 'sal_min_yearly', 'sal_max_yearly',\n       'state_short_clean', 'city_clean', 'has_science', 'has_scientist',\n       'has_analyst', 'has_engineer', 'has_senior', 'has_director',\n       'has_analytics', 'has_data_science', 'has_data_scientist',\n       'has_data_analyst', 'has_data_engineer', 'title_clean'],\n      dtype='object')"
     },
     "execution_count": 54,
     "metadata": {},
     "output_type": "execute_result"
    }
   ]
  },
  {
   "cell_type": "code",
   "source": [
    "len( df_merged_clean_all)"
   ],
   "metadata": {
    "colab": {
     "base_uri": "https://localhost:8080/"
    },
    "id": "2K4vwKJrzhOP",
    "outputId": "63d40092-a644-4bc2-a69a-ed7cf39ada26"
   },
   "execution_count": 55,
   "outputs": [
    {
     "data": {
      "text/plain": "343"
     },
     "execution_count": 55,
     "metadata": {},
     "output_type": "execute_result"
    }
   ]
  },
  {
   "cell_type": "code",
   "source": [
    "df_used_to_plot = df_merged_clean_all[['title_clean','company',\n",
    "                              'sal_min_yearly', 'sal_max_yearly',\n",
    "                              'city_clean','state_short_clean']]\n",
    "# rename columns\n",
    "df_used_to_plot.columns = ['title','company','sal_min_yearly', 'sal_max_yearly',\n",
    "                            'city_name','state_name']                         "
   ],
   "metadata": {
    "id": "Ng8SHXy4xMR7"
   },
   "execution_count": 56,
   "outputs": []
  },
  {
   "cell_type": "code",
   "source": [
    "len(df_used_to_plot)"
   ],
   "metadata": {
    "colab": {
     "base_uri": "https://localhost:8080/"
    },
    "id": "BEj6u7xQ0FkV",
    "outputId": "f8dd9d14-80da-4e64-e292-f433eefd7444"
   },
   "execution_count": 57,
   "outputs": [
    {
     "data": {
      "text/plain": "343"
     },
     "execution_count": 57,
     "metadata": {},
     "output_type": "execute_result"
    }
   ]
  },
  {
   "cell_type": "code",
   "source": [
    "df_used_to_plot.to_csv(\"use_for_plot_data.csv\")"
   ],
   "metadata": {
    "id": "lwxypH9yx2_x"
   },
   "execution_count": 58,
   "outputs": []
  },
  {
   "cell_type": "code",
   "execution_count": 59,
   "outputs": [],
   "source": [
    "import seaborn as sns"
   ],
   "metadata": {
    "collapsed": false,
    "pycharm": {
     "name": "#%%\n"
    }
   }
  },
  {
   "cell_type": "code",
   "source": [
    "import matplotlib.pyplot as plt"
   ],
   "metadata": {
    "id": "QICrlM1U1qxX"
   },
   "execution_count": 60,
   "outputs": []
  },
  {
   "cell_type": "code",
   "source": [
    "# NON-DASH\n",
    "# define func to make pie-chart\n",
    "def draw_pie_chart(label_have):\n",
    "  labels = 'have', '_not'\n",
    "  colors = ['g', 'y']\n",
    "\n",
    "  data_labels = [ df_merged_clean_all[str(label_have)].value_counts(normalize=True)[1], \n",
    "           df_merged_clean_all[str(label_have)].value_counts(normalize=True)[0]\n",
    "         ]\n",
    "  explode = (0.1, 0)\n",
    "  plt.pie(data_labels, \n",
    "          labels=labels, \n",
    "          colors=colors, \n",
    "          explode=explode, \n",
    "          startangle=90, \n",
    "          shadow=True, \n",
    "          autopct='%1.1f%%')\n",
    "  plot_title = 'job title has keywords ' + str(label_have)[4:]\n",
    "  plt.title(plot_title)\n",
    "  plt.show()"
   ],
   "metadata": {
    "id": "ucOwaZxs1Ta2"
   },
   "execution_count": 61,
   "outputs": []
  },
  {
   "cell_type": "code",
   "source": [
    "#call func\n",
    "draw_pie_chart(\"has_data_scientist\")"
   ],
   "metadata": {
    "colab": {
     "base_uri": "https://localhost:8080/",
     "height": 264
    },
    "id": "TER9PSKD1cvC",
    "outputId": "914569e2-3c98-45ac-d9e0-0ed1ec900996"
   },
   "execution_count": 62,
   "outputs": [
    {
     "data": {
      "text/plain": "<Figure size 432x288 with 1 Axes>",
      "image/png": "[encoded data removed]"
     },
     "metadata": {},
     "output_type": "display_data"
    }
   ]
  },
  {
   "cell_type": "markdown",
   "source": [
    "### Explain Pie-chart\n",
    "#### About 22% of job titles have data_scientist keyword."
   ],
   "metadata": {
    "id": "cSDO9V3l1zVG"
   }
  },
  {
   "cell_type": "code",
   "metadata": {
    "id": "xHE2NB2VYmAU",
    "colab": {
     "base_uri": "https://localhost:8080/",
     "height": 264
    },
    "outputId": "b709a0aa-03cd-4f0b-f315-b1e11a55a058"
   },
   "source": [
    "#call func\n",
    "draw_pie_chart(\"has_data_analyst\")"
   ],
   "execution_count": 63,
   "outputs": [
    {
     "data": {
      "text/plain": "<Figure size 432x288 with 1 Axes>",
      "image/png": "[encoded data removed]"
     },
     "metadata": {},
     "output_type": "display_data"
    }
   ]
  },
  {
   "cell_type": "markdown",
   "metadata": {
    "id": "JMg9PyMWMQTw"
   },
   "source": [
    "### Explain Pie-chart\n",
    "#### About 28% (rounded up) of job titles have data_analyst keyword."
   ]
  },
  {
   "cell_type": "code",
   "metadata": {
    "id": "EP8h70g3Yw_c",
    "colab": {
     "base_uri": "https://localhost:8080/",
     "height": 264
    },
    "outputId": "48db37e4-22f4-4b25-f558-152fd22ca65b"
   },
   "source": [
    "#call func\n",
    "draw_pie_chart(\"has_data_engineer\")"
   ],
   "execution_count": 64,
   "outputs": [
    {
     "data": {
      "text/plain": "<Figure size 432x288 with 1 Axes>",
      "image/png": "[encoded data removed]"
     },
     "metadata": {},
     "output_type": "display_data"
    }
   ]
  },
  {
   "cell_type": "markdown",
   "metadata": {
    "id": "v4jDWNFMMYv2"
   },
   "source": [
    "### Explain Pie-chart\n",
    "#### Only 6% (rounded down) of job titles have data_engineer keyword."
   ]
  },
  {
   "cell_type": "code",
   "source": [
    "df_merged_clean = df_merged_clean_all.copy()"
   ],
   "metadata": {
    "id": "EqDh5muP2Gvo"
   },
   "execution_count": 65,
   "outputs": []
  },
  {
   "cell_type": "code",
   "metadata": {
    "id": "GNRu2DlcjIcY",
    "colab": {
     "base_uri": "https://localhost:8080/",
     "height": 636
    },
    "outputId": "f081b33e-469d-445a-d963-9b7e128d977e"
   },
   "source": [
    "df_title_category = pd.DataFrame(df_merged_clean.has_science.value_counts(dropna=False) )\n",
    "df_title_category.rename(columns={\"has_science\":\"frequency\"}, inplace=True)\n",
    "df_title_category.reset_index(inplace=True, drop=False) \n",
    "df_title_category.rename(columns={\"index\":\"has_science\"}, inplace=True)\n",
    "\n",
    "df_title_category.plot(figsize=(12,10),kind='bar', \n",
    "                  x='has_science', \n",
    "                  y='frequency', \n",
    "                  ylabel=\"frequency\",\n",
    "                  title=\"Histogram of has_science observations\")\\\n",
    "          .set_xticklabels(rotation=90,labels=df_title_category['has_science'])"
   ],
   "execution_count": 66,
   "outputs": [
    {
     "data": {
      "text/plain": "[Text(0, 0, '0'), Text(1, 0, '1')]"
     },
     "execution_count": 66,
     "metadata": {},
     "output_type": "execute_result"
    },
    {
     "data": {
      "text/plain": "<Figure size 864x720 with 1 Axes>",
      "image/png": "[encoded data removed]"
     },
     "metadata": {
      "needs_background": "light"
     },
     "output_type": "display_data"
    }
   ]
  },
  {
   "cell_type": "markdown",
   "metadata": {
    "id": "3vn3I2w3Xk70"
   },
   "source": [
    "### Explain histogram, has_science\n",
    "#### Majority of the job titles do NOT contain keyword \"science\""
   ]
  },
  {
   "cell_type": "code",
   "metadata": {
    "id": "zgCGWLlVLaJz",
    "colab": {
     "base_uri": "https://localhost:8080/",
     "height": 636
    },
    "outputId": "652e447f-aec1-4ec8-af5c-dffa53969e13"
   },
   "source": [
    "df_title_category = pd.DataFrame(df_merged_clean.has_analyst.value_counts(dropna=False) )\n",
    "df_title_category.rename(columns={\"has_analyst\":\"frequency\"}, inplace=True)\n",
    "df_title_category.reset_index(inplace=True, drop=False) \n",
    "df_title_category.rename(columns={\"index\":\"has_analyst\"}, inplace=True)\n",
    "\n",
    "df_title_category.plot(figsize=(12,10),kind='bar', \n",
    "                  x='has_analyst', \n",
    "                  y='frequency', \n",
    "                  ylabel=\"frequency\",\n",
    "                  title=\"Histogram of has_analyst observations\")\\\n",
    "          .set_xticklabels(rotation=90,labels=df_title_category['has_analyst'])"
   ],
   "execution_count": 67,
   "outputs": [
    {
     "data": {
      "text/plain": "[Text(0, 0, '1'), Text(1, 0, '0')]"
     },
     "execution_count": 67,
     "metadata": {},
     "output_type": "execute_result"
    },
    {
     "data": {
      "text/plain": "<Figure size 864x720 with 1 Axes>",
      "image/png": "[encoded data removed]"
     },
     "metadata": {
      "needs_background": "light"
     },
     "output_type": "display_data"
    }
   ]
  },
  {
   "cell_type": "markdown",
   "metadata": {
    "id": "mGhQOWeeM-Nl"
   },
   "source": [
    "### Explain histogram, has_analyst\n",
    "####  Majority of the job titles do NOT contain keyword \"analyst\""
   ]
  },
  {
   "cell_type": "code",
   "metadata": {
    "id": "tVevhZ88NE-I",
    "colab": {
     "base_uri": "https://localhost:8080/",
     "height": 636
    },
    "outputId": "c1c51f58-7a54-4d07-be70-a6bdabf23dbd"
   },
   "source": [
    "df_title_category = pd.DataFrame(df_merged_clean.has_engineer.value_counts(dropna=False) )\n",
    "df_title_category.rename(columns={\"has_engineer\":\"frequency\"}, inplace=True)\n",
    "df_title_category.reset_index(inplace=True, drop=False) \n",
    "df_title_category.rename(columns={\"index\":\"has_engineer\"}, inplace=True)\n",
    "\n",
    "df_title_category.plot(figsize=(12,10),kind='bar', \n",
    "                  x='has_engineer', \n",
    "                  y='frequency', \n",
    "                  ylabel=\"frequency\",\n",
    "                  title=\"Histogram of has_engineer observations\")\\\n",
    "          .set_xticklabels(rotation=90,labels=df_title_category['has_engineer'])"
   ],
   "execution_count": 68,
   "outputs": [
    {
     "data": {
      "text/plain": "[Text(0, 0, '0'), Text(1, 0, '1')]"
     },
     "execution_count": 68,
     "metadata": {},
     "output_type": "execute_result"
    },
    {
     "data": {
      "text/plain": "<Figure size 864x720 with 1 Axes>",
      "image/png": "[encoded data removed]"
     },
     "metadata": {
      "needs_background": "light"
     },
     "output_type": "display_data"
    }
   ]
  },
  {
   "cell_type": "markdown",
   "metadata": {
    "id": "ZnrMx9MfNZom"
   },
   "source": [
    "### Explain histogram, has_engineer\n",
    "#### Majority of the job titles do NOT contain keyword \"engineer\""
   ]
  },
  {
   "cell_type": "markdown",
   "source": [
    "Use (df_merged)"
   ],
   "metadata": {
    "id": "YkS_j_F62zo4"
   }
  },
  {
   "cell_type": "code",
   "metadata": {
    "id": "XYq0kVjIXEum",
    "colab": {
     "base_uri": "https://localhost:8080/"
    },
    "outputId": "5833b7cb-95a9-46cd-f87a-c70e50595977"
   },
   "source": [
    "has_job_keywords_col_names = ['has_data_analyst','has_data_scientist','has_data_engineer']\n",
    "col_sums_1 = df_merged[has_job_keywords_col_names].sum()\n",
    "col_sums_2 = col_sums_1.sum()\n",
    "a = int( round( 100*( col_sums_2 / len(df_merged['title_clean'])),2))"
   ],
   "execution_count": 69,
   "outputs": []
  },
  {
   "cell_type": "code",
   "metadata": {
    "id": "SxOFt-GuavXz",
    "colab": {
     "base_uri": "https://localhost:8080/"
    },
    "outputId": "d756b34b-8d4c-46c4-ea79-b98822be8404"
   },
   "source": [
    "b=  round( 100*( col_sums_1 / len(df_merged['title_clean'])),0)\n",
    "#print (b)\n",
    "print(\"only {}% jobtitles have either of these keywords 'data_analyst','data_scientist','data_engineer'.\".format(a))\n",
    "print(\"         only {}% jobtitles have keyword 'data_analyst'.\".format( int( b[0] ) ) )\n",
    "print(\"         only {}% jobtitles have keyword 'data_scientist'.\".format( int( b[1] ) ) )\n",
    "print(\"         only {}% jobtitles have keyword 'data_engineer'.\".format( int( b[2] ) ) )"
   ],
   "execution_count": 70,
   "outputs": [
    {
     "name": "stdout",
     "output_type": "stream",
     "text": [
      "only 38% jobtitles have either of these keywords 'data_analyst','data_scientist','data_engineer'.\n",
      "         only 28% jobtitles have keyword 'data_analyst'.\n",
      "         only 8% jobtitles have keyword 'data_scientist'.\n",
      "         only 2% jobtitles have keyword 'data_engineer'.\n"
     ]
    }
   ]
  },
  {
   "cell_type": "markdown",
   "metadata": {
    "id": "Q5H1L9nqj3L0"
   },
   "source": [
    "# Correlations"
   ]
  },
  {
   "cell_type": "code",
   "source": [
    "df_clean_location_salary.columns"
   ],
   "metadata": {
    "colab": {
     "base_uri": "https://localhost:8080/"
    },
    "id": "Ijx1-rJd2YKL",
    "outputId": "85ca7de1-1f21-4769-b914-9fb6d9d39306"
   },
   "execution_count": 71,
   "outputs": [
    {
     "data": {
      "text/plain": "Index(['title', 'company', 'description', 'sal_min_yearly', 'sal_max_yearly',\n       'state_short_clean', 'city_clean', 'has_science', 'has_scientist',\n       'has_analyst', 'has_engineer', 'has_senior', 'has_director',\n       'has_analytics', 'has_data_science', 'has_data_scientist',\n       'has_data_analyst', 'has_data_engineer', 'title_clean'],\n      dtype='object')"
     },
     "execution_count": 71,
     "metadata": {},
     "output_type": "execute_result"
    }
   ]
  },
  {
   "cell_type": "code",
   "source": [
    "df_clean_location_salary['title'].value_counts()"
   ],
   "metadata": {
    "colab": {
     "base_uri": "https://localhost:8080/"
    },
    "id": "aQJ59yzy3TGm",
    "outputId": "7880041b-106b-421b-d026-81e06a53d3d1"
   },
   "execution_count": 72,
   "outputs": [
    {
     "data": {
      "text/plain": "healthcare analyst/statistical programmer                  209\nresearch assistant/data analyst                            209\nsenior statistical programmer (sr. associate)              209\ndata scientist                                              35\ndata engineer                                               12\n                                                          ... \nstaff machine learning engineer ( python ) - remote usa      1\nsenior data analyst (contract)                               1\nstaff machine learning engineer                              1\ndata science project manager                                 1\nsenior billing data analyst                                  1\nName: title, Length: 197, dtype: int64"
     },
     "execution_count": 72,
     "metadata": {},
     "output_type": "execute_result"
    }
   ]
  },
  {
   "cell_type": "code",
   "metadata": {
    "id": "rJG-iAR9cmjv",
    "colab": {
     "base_uri": "https://localhost:8080/",
     "height": 300
    },
    "outputId": "2abeb553-27e8-455e-cb3e-e469875086c5"
   },
   "source": [
    "df_merged_clean_subset = df_clean_location_salary[['sal_max_yearly', 'sal_min_yearly',\n",
    "                                          'has_scientist', 'has_analyst', 'has_engineer',\n",
    "                                          'has_data_scientist', 'has_data_analyst','has_data_engineer']]\n",
    "\n",
    "corr_2 = df_merged_clean_subset.corr() # get correlation object\n",
    "corr_2"
   ],
   "execution_count": 73,
   "outputs": [
    {
     "data": {
      "text/plain": "                    sal_max_yearly  sal_min_yearly  has_scientist  \\\nsal_max_yearly            1.000000        0.745437       0.117673   \nsal_min_yearly            0.745437        1.000000       0.183439   \nhas_scientist             0.117673        0.183439       1.000000   \nhas_analyst              -0.192796       -0.203836      -0.309032   \nhas_engineer              0.147480        0.189579      -0.052876   \nhas_data_scientist        0.119482        0.180122       0.972305   \nhas_data_analyst         -0.381634       -0.510440      -0.183877   \nhas_data_engineer         0.080821        0.130853      -0.022526   \n\n                    has_analyst  has_engineer  has_data_scientist  \\\nsal_max_yearly        -0.192796      0.147480            0.119482   \nsal_min_yearly        -0.203836      0.189579            0.180122   \nhas_scientist         -0.309032     -0.052876            0.972305   \nhas_analyst            1.000000     -0.247082           -0.306898   \nhas_engineer          -0.247082      1.000000           -0.050485   \nhas_data_scientist    -0.306898     -0.050485            1.000000   \nhas_data_analyst       0.565867     -0.139816           -0.187296   \nhas_data_engineer     -0.168443      0.681730           -0.020578   \n\n                    has_data_analyst  has_data_engineer  \nsal_max_yearly             -0.381634           0.080821  \nsal_min_yearly             -0.510440           0.130853  \nhas_scientist              -0.183877          -0.022526  \nhas_analyst                 0.565867          -0.168443  \nhas_engineer               -0.139816           0.681730  \nhas_data_scientist         -0.187296          -0.020578  \nhas_data_analyst            1.000000          -0.095316  \nhas_data_engineer          -0.095316           1.000000  ",
      "text/html": "<div>\n<style scoped>\n    .dataframe tbody tr th:only-of-type {\n        vertical-align: middle;\n    }\n\n    .dataframe tbody tr th {\n        vertical-align: top;\n    }\n\n    .dataframe thead th {\n        text-align: right;\n    }\n</style>\n<table border=\"1\" class=\"dataframe\">\n  <thead>\n    <tr style=\"text-align: right;\">\n      <th></th>\n      <th>sal_max_yearly</th>\n      <th>sal_min_yearly</th>\n      <th>has_scientist</th>\n      <th>has_analyst</th>\n      <th>has_engineer</th>\n      <th>has_data_scientist</th>\n      <th>has_data_analyst</th>\n      <th>has_data_engineer</th>\n    </tr>\n  </thead>\n  <tbody>\n    <tr>\n      <th>sal_max_yearly</th>\n      <td>1.000000</td>\n      <td>0.745437</td>\n      <td>0.117673</td>\n      <td>-0.192796</td>\n      <td>0.147480</td>\n      <td>0.119482</td>\n      <td>-0.381634</td>\n      <td>0.080821</td>\n    </tr>\n    <tr>\n      <th>sal_min_yearly</th>\n      <td>0.745437</td>\n      <td>1.000000</td>\n      <td>0.183439</td>\n      <td>-0.203836</td>\n      <td>0.189579</td>\n      <td>0.180122</td>\n      <td>-0.510440</td>\n      <td>0.130853</td>\n    </tr>\n    <tr>\n      <th>has_scientist</th>\n      <td>0.117673</td>\n      <td>0.183439</td>\n      <td>1.000000</td>\n      <td>-0.309032</td>\n      <td>-0.052876</td>\n      <td>0.972305</td>\n      <td>-0.183877</td>\n      <td>-0.022526</td>\n    </tr>\n    <tr>\n      <th>has_analyst</th>\n      <td>-0.192796</td>\n      <td>-0.203836</td>\n      <td>-0.309032</td>\n      <td>1.000000</td>\n      <td>-0.247082</td>\n      <td>-0.306898</td>\n      <td>0.565867</td>\n      <td>-0.168443</td>\n    </tr>\n    <tr>\n      <th>has_engineer</th>\n      <td>0.147480</td>\n      <td>0.189579</td>\n      <td>-0.052876</td>\n      <td>-0.247082</td>\n      <td>1.000000</td>\n      <td>-0.050485</td>\n      <td>-0.139816</td>\n      <td>0.681730</td>\n    </tr>\n    <tr>\n      <th>has_data_scientist</th>\n      <td>0.119482</td>\n      <td>0.180122</td>\n      <td>0.972305</td>\n      <td>-0.306898</td>\n      <td>-0.050485</td>\n      <td>1.000000</td>\n      <td>-0.187296</td>\n      <td>-0.020578</td>\n    </tr>\n    <tr>\n      <th>has_data_analyst</th>\n      <td>-0.381634</td>\n      <td>-0.510440</td>\n      <td>-0.183877</td>\n      <td>0.565867</td>\n      <td>-0.139816</td>\n      <td>-0.187296</td>\n      <td>1.000000</td>\n      <td>-0.095316</td>\n    </tr>\n    <tr>\n      <th>has_data_engineer</th>\n      <td>0.080821</td>\n      <td>0.130853</td>\n      <td>-0.022526</td>\n      <td>-0.168443</td>\n      <td>0.681730</td>\n      <td>-0.020578</td>\n      <td>-0.095316</td>\n      <td>1.000000</td>\n    </tr>\n  </tbody>\n</table>\n</div>"
     },
     "execution_count": 73,
     "metadata": {},
     "output_type": "execute_result"
    }
   ]
  },
  {
   "cell_type": "markdown",
   "source": [
    "## Salary, job title keywords\n",
    "\n",
    "\n",
    "### Maximum yearly salary is positively correlated with titles that have \"data_engineer\" keyword."
   ],
   "metadata": {
    "id": "IyF2J6wV4Ps_"
   }
  },
  {
   "cell_type": "code",
   "metadata": {
    "id": "alDbyOzulI_6",
    "colab": {
     "base_uri": "https://localhost:8080/",
     "height": 175
    },
    "outputId": "ba0c8bfc-c254-4c6d-f536-1fb21e919241"
   },
   "source": [
    "df_merged_clean_subset = df_clean_location_salary[['sal_max_yearly', 'sal_min_yearly',\n",
    "                                          'has_senior', 'has_director']]\n",
    "\n",
    "corr_3 = df_merged_clean_subset.corr() # get correlation object\n",
    "corr_3"
   ],
   "execution_count": 74,
   "outputs": [
    {
     "data": {
      "text/plain": "                sal_max_yearly  sal_min_yearly  has_senior  has_director\nsal_max_yearly        1.000000        0.745437    0.049040      0.256919\nsal_min_yearly        0.745437        1.000000   -0.043514      0.248152\nhas_senior            0.049040       -0.043514    1.000000     -0.056283\nhas_director          0.256919        0.248152   -0.056283      1.000000",
      "text/html": "<div>\n<style scoped>\n    .dataframe tbody tr th:only-of-type {\n        vertical-align: middle;\n    }\n\n    .dataframe tbody tr th {\n        vertical-align: top;\n    }\n\n    .dataframe thead th {\n        text-align: right;\n    }\n</style>\n<table border=\"1\" class=\"dataframe\">\n  <thead>\n    <tr style=\"text-align: right;\">\n      <th></th>\n      <th>sal_max_yearly</th>\n      <th>sal_min_yearly</th>\n      <th>has_senior</th>\n      <th>has_director</th>\n    </tr>\n  </thead>\n  <tbody>\n    <tr>\n      <th>sal_max_yearly</th>\n      <td>1.000000</td>\n      <td>0.745437</td>\n      <td>0.049040</td>\n      <td>0.256919</td>\n    </tr>\n    <tr>\n      <th>sal_min_yearly</th>\n      <td>0.745437</td>\n      <td>1.000000</td>\n      <td>-0.043514</td>\n      <td>0.248152</td>\n    </tr>\n    <tr>\n      <th>has_senior</th>\n      <td>0.049040</td>\n      <td>-0.043514</td>\n      <td>1.000000</td>\n      <td>-0.056283</td>\n    </tr>\n    <tr>\n      <th>has_director</th>\n      <td>0.256919</td>\n      <td>0.248152</td>\n      <td>-0.056283</td>\n      <td>1.000000</td>\n    </tr>\n  </tbody>\n</table>\n</div>"
     },
     "execution_count": 74,
     "metadata": {},
     "output_type": "execute_result"
    }
   ]
  },
  {
   "cell_type": "markdown",
   "metadata": {
    "id": "IeQDxBGolgCr"
   },
   "source": [
    "## Salary, job seniority keywords\n",
    "\n",
    "\n",
    "### Maximum yearly salary is very highly (in this context) correlated with titles that have \"Director\" keyword.\n"
   ]
  },
  {
   "cell_type": "code",
   "metadata": {
    "id": "W7xxtFBamUSs",
    "colab": {
     "base_uri": "https://localhost:8080/",
     "height": 238
    },
    "outputId": "8e1ed736-1f2d-4f3c-ba33-cbda89453710"
   },
   "source": [
    "df_merged_clean_subset = df_clean_location_salary[['sal_max_yearly', 'sal_min_yearly',\n",
    "                                          'has_science', 'has_scientist', \n",
    "                                          'has_analytics',\n",
    "                                          'has_data_science']]\n",
    "\n",
    "corr_4 = df_merged_clean_subset.corr() # get correlation object\n",
    "corr_4"
   ],
   "execution_count": 75,
   "outputs": [
    {
     "data": {
      "text/plain": "                  sal_max_yearly  sal_min_yearly  has_science  has_scientist  \\\nsal_max_yearly          1.000000        0.745437     0.201088       0.117673   \nsal_min_yearly          0.745437        1.000000     0.206973       0.183439   \nhas_science             0.201088        0.206973     1.000000      -0.039028   \nhas_scientist           0.117673        0.183439    -0.039028       1.000000   \nhas_analytics           0.090895        0.170054     0.177870      -0.005175   \nhas_data_science        0.184116        0.180161     0.967130      -0.058139   \n\n                  has_analytics  has_data_science  \nsal_max_yearly         0.090895          0.184116  \nsal_min_yearly         0.170054          0.180161  \nhas_science            0.177870          0.967130  \nhas_scientist         -0.005175         -0.058139  \nhas_analytics          1.000000          0.184994  \nhas_data_science       0.184994          1.000000  ",
      "text/html": "<div>\n<style scoped>\n    .dataframe tbody tr th:only-of-type {\n        vertical-align: middle;\n    }\n\n    .dataframe tbody tr th {\n        vertical-align: top;\n    }\n\n    .dataframe thead th {\n        text-align: right;\n    }\n</style>\n<table border=\"1\" class=\"dataframe\">\n  <thead>\n    <tr style=\"text-align: right;\">\n      <th></th>\n      <th>sal_max_yearly</th>\n      <th>sal_min_yearly</th>\n      <th>has_science</th>\n      <th>has_scientist</th>\n      <th>has_analytics</th>\n      <th>has_data_science</th>\n    </tr>\n  </thead>\n  <tbody>\n    <tr>\n      <th>sal_max_yearly</th>\n      <td>1.000000</td>\n      <td>0.745437</td>\n      <td>0.201088</td>\n      <td>0.117673</td>\n      <td>0.090895</td>\n      <td>0.184116</td>\n    </tr>\n    <tr>\n      <th>sal_min_yearly</th>\n      <td>0.745437</td>\n      <td>1.000000</td>\n      <td>0.206973</td>\n      <td>0.183439</td>\n      <td>0.170054</td>\n      <td>0.180161</td>\n    </tr>\n    <tr>\n      <th>has_science</th>\n      <td>0.201088</td>\n      <td>0.206973</td>\n      <td>1.000000</td>\n      <td>-0.039028</td>\n      <td>0.177870</td>\n      <td>0.967130</td>\n    </tr>\n    <tr>\n      <th>has_scientist</th>\n      <td>0.117673</td>\n      <td>0.183439</td>\n      <td>-0.039028</td>\n      <td>1.000000</td>\n      <td>-0.005175</td>\n      <td>-0.058139</td>\n    </tr>\n    <tr>\n      <th>has_analytics</th>\n      <td>0.090895</td>\n      <td>0.170054</td>\n      <td>0.177870</td>\n      <td>-0.005175</td>\n      <td>1.000000</td>\n      <td>0.184994</td>\n    </tr>\n    <tr>\n      <th>has_data_science</th>\n      <td>0.184116</td>\n      <td>0.180161</td>\n      <td>0.967130</td>\n      <td>-0.058139</td>\n      <td>0.184994</td>\n      <td>1.000000</td>\n    </tr>\n  </tbody>\n</table>\n</div>"
     },
     "execution_count": 75,
     "metadata": {},
     "output_type": "execute_result"
    }
   ]
  },
  {
   "cell_type": "markdown",
   "metadata": {
    "id": "bKx2hxTUmUrj"
   },
   "source": [
    "## Salary, science keywords\n",
    "### Maximum yearly salary is positively correlated with titles that have \"science\" keyword."
   ]
  },
  {
   "cell_type": "code",
   "metadata": {
    "id": "vviPIsAD_VTI",
    "colab": {
     "base_uri": "https://localhost:8080/",
     "height": 560
    },
    "outputId": "08391cff-f31f-40fa-a26b-293d9b3cf647"
   },
   "source": [
    "df_merged_clean_subset = df_clean_location_salary[['sal_max_yearly', 'sal_min_yearly',\n",
    "                                          'has_science', 'has_scientist', \n",
    "                                          'has_analyst','has_engineer', \n",
    "                                          'has_senior', 'has_director', \n",
    "                                          'has_analytics', 'has_data_science', \n",
    "                                          'has_data_scientist', 'has_data_analyst',\n",
    "                                          'has_data_engineer']]\n",
    "\n",
    "corr_5 = df_merged_clean_subset.corr() # get correlation object\n",
    "\n",
    "ax = sns.heatmap( corr_5, \n",
    "                  vmin=-1, vmax=1, center=0,\n",
    "                  cmap=sns.diverging_palette(100, 520, n=100),\n",
    "                  square=True\n",
    "                )\n",
    "\n",
    "ax.set_xticklabels(\n",
    "                    ax.get_xticklabels(),\n",
    "                    rotation=45,\n",
    "                    horizontalalignment='right'\n",
    "                  )"
   ],
   "execution_count": 76,
   "outputs": [
    {
     "data": {
      "text/plain": "[Text(0.5, 0, 'sal_max_yearly'),\n Text(1.5, 0, 'sal_min_yearly'),\n Text(2.5, 0, 'has_science'),\n Text(3.5, 0, 'has_scientist'),\n Text(4.5, 0, 'has_analyst'),\n Text(5.5, 0, 'has_engineer'),\n Text(6.5, 0, 'has_senior'),\n Text(7.5, 0, 'has_director'),\n Text(8.5, 0, 'has_analytics'),\n Text(9.5, 0, 'has_data_science'),\n Text(10.5, 0, 'has_data_scientist'),\n Text(11.5, 0, 'has_data_analyst'),\n Text(12.5, 0, 'has_data_engineer')]"
     },
     "execution_count": 76,
     "metadata": {},
     "output_type": "execute_result"
    },
    {
     "data": {
      "text/plain": "<Figure size 432x288 with 2 Axes>",
      "image/png": "[encoded data removed]"
     },
     "metadata": {
      "needs_background": "light"
     },
     "output_type": "display_data"
    }
   ]
  },
  {
   "cell_type": "markdown",
   "metadata": {
    "id": "HbjsL23RX1Mc"
   },
   "source": [
    "### Explain Heatmap\n",
    "#### Maximum yearly salary shows negative correlation with job titles with keywords \"analyst\" and \"data_analyst\".\n",
    "#### Maximum yearly salary shows positive correlation with job titles with keywords \"data_engineer\""
   ]
  },
  {
   "cell_type": "code",
   "source": [
    "print(corr_5)"
   ],
   "metadata": {
    "colab": {
     "base_uri": "https://localhost:8080/"
    },
    "id": "g5u_qFik5_Fx",
    "outputId": "dbca0291-ef5d-444d-b726-f4c7cf5b43ba"
   },
   "execution_count": 77,
   "outputs": [
    {
     "name": "stdout",
     "output_type": "stream",
     "text": [
      "                    sal_max_yearly  sal_min_yearly  has_science  \\\n",
      "sal_max_yearly            1.000000        0.745437     0.201088   \n",
      "sal_min_yearly            0.745437        1.000000     0.206973   \n",
      "has_science               0.201088        0.206973     1.000000   \n",
      "has_scientist             0.117673        0.183439    -0.039028   \n",
      "has_analyst              -0.192796       -0.203836    -0.136902   \n",
      "has_engineer              0.147480        0.189579    -0.043633   \n",
      "has_senior                0.049040       -0.043514    -0.073059   \n",
      "has_director              0.256919        0.248152     0.429283   \n",
      "has_analytics             0.090895        0.170054     0.177870   \n",
      "has_data_science          0.184116        0.180161     0.967130   \n",
      "has_data_scientist        0.119482        0.180122    -0.036868   \n",
      "has_data_analyst         -0.381634       -0.510440    -0.104954   \n",
      "has_data_engineer         0.080821        0.130853    -0.029746   \n",
      "\n",
      "                    has_scientist  has_analyst  has_engineer  has_senior  \\\n",
      "sal_max_yearly           0.117673    -0.192796      0.147480    0.049040   \n",
      "sal_min_yearly           0.183439    -0.203836      0.189579   -0.043514   \n",
      "has_science             -0.039028    -0.136902     -0.043633   -0.073059   \n",
      "has_scientist            1.000000    -0.309032     -0.052876   -0.123310   \n",
      "has_analyst             -0.309032     1.000000     -0.247082   -0.580003   \n",
      "has_engineer            -0.052876    -0.247082      1.000000   -0.122995   \n",
      "has_senior              -0.123310    -0.580003     -0.122995    1.000000   \n",
      "has_director            -0.029650    -0.103203     -0.021520   -0.056283   \n",
      "has_analytics           -0.005175    -0.131930     -0.027510   -0.029470   \n",
      "has_data_science        -0.058139    -0.127738     -0.042199   -0.068010   \n",
      "has_data_scientist       0.972305    -0.306898     -0.050485   -0.116705   \n",
      "has_data_analyst        -0.183877     0.565867     -0.139816   -0.303170   \n",
      "has_data_engineer       -0.022526    -0.168443      0.681730   -0.075074   \n",
      "\n",
      "                    has_director  has_analytics  has_data_science  \\\n",
      "sal_max_yearly          0.256919       0.090895          0.184116   \n",
      "sal_min_yearly          0.248152       0.170054          0.180161   \n",
      "has_science             0.429283       0.177870          0.967130   \n",
      "has_scientist          -0.029650      -0.005175         -0.058139   \n",
      "has_analyst            -0.103203      -0.131930         -0.127738   \n",
      "has_engineer           -0.021520      -0.027510         -0.042199   \n",
      "has_senior             -0.056283      -0.029470         -0.068010   \n",
      "has_director            1.000000       0.286165          0.378075   \n",
      "has_analytics           0.286165       1.000000          0.184994   \n",
      "has_data_science        0.378075       0.184994          1.000000   \n",
      "has_data_scientist     -0.028828      -0.003357         -0.056529   \n",
      "has_data_analyst       -0.058399      -0.074655         -0.100636   \n",
      "has_data_engineer      -0.014671      -0.018755         -0.028768   \n",
      "\n",
      "                    has_data_scientist  has_data_analyst  has_data_engineer  \n",
      "sal_max_yearly                0.119482         -0.381634           0.080821  \n",
      "sal_min_yearly                0.180122         -0.510440           0.130853  \n",
      "has_science                  -0.036868         -0.104954          -0.029746  \n",
      "has_scientist                 0.972305         -0.183877          -0.022526  \n",
      "has_analyst                  -0.306898          0.565867          -0.168443  \n",
      "has_engineer                 -0.050485         -0.139816           0.681730  \n",
      "has_senior                   -0.116705         -0.303170          -0.075074  \n",
      "has_director                 -0.028828         -0.058399          -0.014671  \n",
      "has_analytics                -0.003357         -0.074655          -0.018755  \n",
      "has_data_science             -0.056529         -0.100636          -0.028768  \n",
      "has_data_scientist            1.000000         -0.187296          -0.020578  \n",
      "has_data_analyst             -0.187296          1.000000          -0.095316  \n",
      "has_data_engineer            -0.020578         -0.095316           1.000000  \n"
     ]
    }
   ]
  },
  {
   "cell_type": "code",
   "metadata": {
    "id": "YvNfA2fSqQ9i"
   },
   "source": [
    "#df_clean_location_salary['state_short_clean'].value_counts()"
   ],
   "execution_count": 78,
   "outputs": []
  },
  {
   "cell_type": "code",
   "metadata": {
    "id": "S9CrOZ72rq0s"
   },
   "source": [
    "# create filtered df for grouping\n",
    "df_merged_clean_subset = df_clean_location_salary[['sal_max_yearly', 'sal_min_yearly','state_short_clean']]\n",
    "\n",
    "df_merged_clean_subset = df_merged_clean_subset [ df_merged_clean_subset['state_short_clean']!= \"un\" ]\n",
    "\n",
    "#df_merged_clean_subset['state_short_clean'].value_counts()[0:30]"
   ],
   "execution_count": 79,
   "outputs": []
  },
  {
   "cell_type": "code",
   "metadata": {
    "id": "O8lU0M58_7bw",
    "colab": {
     "base_uri": "https://localhost:8080/",
     "height": 428
    },
    "outputId": "49a29da4-4a98-4e83-abe0-5626af94fadf"
   },
   "source": [
    "# get median salary_max data by city\n",
    "groupby_column_name = \"state_short_clean\"\n",
    "median_df_grouped_salary_max = pd.DataFrame(df_merged_clean_subset.groupby(groupby_column_name)['sal_max_yearly'].agg('median'))\n",
    "# sort values of median(salary_max), descending order\n",
    "median_df_grouped_salary_max.sort_values(by='sal_max_yearly',ascending=False,inplace=True)\n",
    "median_df_grouped_salary_max.reset_index(inplace=True, drop=False)\n",
    "#plot\n",
    "plt.figure(figsize=(20, 6))\n",
    "\n",
    "f = median_df_grouped_salary_max['sal_max_yearly'].plot( \n",
    "        kind='bar', \n",
    "        title=\"bar plot median(salary_max)\", \n",
    "        xlabel= groupby_column_name)\n",
    "\n",
    "f.set_xticklabels(rotation= 90,\n",
    "                   labels= median_df_grouped_salary_max[groupby_column_name].str.upper())\n",
    "plt.ylabel('median(salary_max)')\n",
    "\n",
    "#display(f)\n"
   ],
   "execution_count": 81,
   "outputs": [
    {
     "data": {
      "text/plain": "Text(0, 0.5, 'median(salary_max)')"
     },
     "execution_count": 81,
     "metadata": {},
     "output_type": "execute_result"
    },
    {
     "data": {
      "text/plain": "<Figure size 1440x432 with 1 Axes>",
      "image/png": "[encoded data removed]"
     },
     "metadata": {
      "needs_background": "light"
     },
     "output_type": "display_data"
    }
   ]
  },
  {
   "cell_type": "markdown",
   "source": [
    "### Explain bar chart\n",
    "#### Highest median salary (considering maximum yearly salary) was on offer for State of (ak) Alaska, and NOT California.\n",
    "#### Lowest median salary (considering maximum yearly salary) was on offer for State of (ma) Massachusetts\n",
    "#### Generally speaking, median salaries are fairly high in most states."
   ],
   "metadata": {
    "id": "dSNnY4KY6tn2",
    "pycharm": {
     "name": "#%% md\n"
    }
   }
  }
 ]
}